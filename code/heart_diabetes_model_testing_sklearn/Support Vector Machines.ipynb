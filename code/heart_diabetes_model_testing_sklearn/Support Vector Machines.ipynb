{
 "cells": [
  {
   "cell_type": "code",
   "execution_count": 20,
   "id": "898146eb",
   "metadata": {
    "scrolled": true
   },
   "outputs": [],
   "source": [
    "# Support Vectors Machines (algorithms)\n",
    "\n",
    "import pandas as pd\n",
    "from sklearn.svm import LinearSVC, NuSVC, SVC\n",
    "from sklearn.model_selection import train_test_split\n",
    "from sklearn.metrics import accuracy_score\n",
    "\n"
   ]
  },
  {
   "cell_type": "code",
   "execution_count": 159,
   "id": "4795ecb9",
   "metadata": {},
   "outputs": [],
   "source": [
    "diabetes_data = pd.read_csv('diabetes.csv')\n",
    "X = diabetes_data.drop(columns = ['Outcome'])\n",
    "y = diabetes_data['Outcome']\n",
    "\n",
    "# X_train, X_test, y_train, y_test = train_test_split(X, y, test_size=0.2)\n"
   ]
  },
  {
   "cell_type": "code",
   "execution_count": 234,
   "id": "bf6f9794",
   "metadata": {
    "scrolled": false
   },
   "outputs": [
    {
     "name": "stdout",
     "output_type": "stream",
     "text": [
      "SVC = 77.489%\n",
      "NuSVC = 76.623%\n"
     ]
    }
   ],
   "source": [
    "X_train, X_test, y_train, y_test = train_test_split(X, y, test_size=0.3)\n",
    "\n",
    "modelSVC = SVC()\n",
    "modelSVC.fit(X_train, y_train)\n",
    "# modelLSVC = LinearSVC()\n",
    "# modelLSVC.fit(X_train, y_train) #unstable for current dataset\n",
    "modelNSVC = NuSVC()\n",
    "modelNSVC.fit(X_train, y_train)\n",
    "\n",
    "predictionsSVC = modelSVC.predict(X_test)\n",
    "# predictionsLSVC = modelLSVC.predict(X_test)\n",
    "predictionsNSVC = modelNSVC.predict(X_test)\n",
    "\n",
    "scoreSVC = accuracy_score(y_test, predictionsSVC)\n",
    "# scoreLSVC = accuracy_score(y_test, predictionsLSVC)\n",
    "scoreNSVC = accuracy_score(y_test, predictionsNSVC)\n",
    "\n",
    "print(f\"SVC = {scoreSVC*100:.3f}%\")\n",
    "# print(f\"LinearSVC = {scoreLSVC*100:.3f}%\")\n",
    "print(f\"NuSVC = {scoreNSVC*100:.3f}%\")"
   ]
  }
 ],
 "metadata": {
  "kernelspec": {
   "display_name": "Python 3",
   "language": "python",
   "name": "python3"
  },
  "language_info": {
   "codemirror_mode": {
    "name": "ipython",
    "version": 3
   },
   "file_extension": ".py",
   "mimetype": "text/x-python",
   "name": "python",
   "nbconvert_exporter": "python",
   "pygments_lexer": "ipython3",
   "version": "3.8.8"
  }
 },
 "nbformat": 4,
 "nbformat_minor": 5
}
