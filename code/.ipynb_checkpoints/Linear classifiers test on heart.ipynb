{
 "cells": [
  {
   "cell_type": "code",
   "execution_count": 4,
   "id": "fa91e47b",
   "metadata": {},
   "outputs": [],
   "source": [
    "# import the algorithms (Linear Models)\n",
    "import pandas as pd\n",
    "from sklearn.linear_model import (LogisticRegression, PassiveAggressiveClassifier,\n",
    "Perceptron, RidgeClassifier, RidgeClassifierCV, SGDClassifier)\n",
    "from sklearn.model_selection import train_test_split\n",
    "from sklearn.metrics import accuracy_score\n"
   ]
  },
  {
   "cell_type": "code",
   "execution_count": 245,
   "id": "bee4d4eb",
   "metadata": {},
   "outputs": [],
   "source": [
    "# read data and assign independent and dependent variables\n",
    "heart_data = pd.read_csv('heart.csv')\n",
    "X = heart_data.drop(columns=['target'])\n",
    "y = heart_data['target']\n",
    "# X_train, X_test, y_train, y_test = train_test_split(X, y, test_size=0.2) #split data in two parts\n"
   ]
  },
  {
   "cell_type": "code",
   "execution_count": 273,
   "id": "cf9057a4",
   "metadata": {},
   "outputs": [
    {
     "name": "stdout",
     "output_type": "stream",
     "text": [
      "PassAggClas = 0.5901639344262295\n",
      "Perceptron = 0.5737704918032787\n",
      "RidgeClass = 0.819672131147541\n",
      "RidgeCV = 0.8032786885245902\n",
      "SDGClass = 0.6065573770491803\n"
     ]
    }
   ],
   "source": [
    "X_train, X_test, y_train, y_test = train_test_split(X, y, test_size=0.2) #split data in two parts\n",
    "\n",
    "#apply algorithms to test data\n",
    "#model_L = LogisticRegression()\n",
    "#model_L.fit(X_train, y_train)\n",
    "model_PA = PassiveAggressiveClassifier()\n",
    "model_PA.fit(X_train, y_train)\n",
    "model_P = Perceptron()\n",
    "model_P.fit(X_train, y_train)\n",
    "model_Rd = RidgeClassifier()\n",
    "model_Rd.fit(X_train, y_train)\n",
    "model_Rcv = RidgeClassifierCV()\n",
    "model_Rcv.fit(X_train, y_train)\n",
    "model_SDG = SGDClassifier()\n",
    "model_SDG.fit(X_train, y_train)\n",
    "\n",
    "# make predictions using test data\n",
    "#predictions_L = model_L.predict(X_test)\n",
    "predictions_PA = model_PA.predict(X_test)\n",
    "predictions_P = model_P.predict(X_test)\n",
    "predictions_Rd = model_Rd.predict(X_test)\n",
    "predictions_Rcv = model_Rcv.predict(X_test)\n",
    "predictions_SDG = model_SDG.predict(X_test)\n",
    "\n",
    "# compare predictions with real values\n",
    "#score_L = accuracy_score(y_test, predictions_L)\n",
    "score_PA = accuracy_score(y_test, predictions_PA)\n",
    "score_P = accuracy_score(y_test, predictions_P)\n",
    "score_Rd = accuracy_score(y_test, predictions_Rd)\n",
    "score_Rcv = accuracy_score(y_test, predictions_Rcv)\n",
    "score_SDG = accuracy_score(y_test, predictions_SDG)\n",
    "\n",
    "print(\"PassAggClas =\", score_PA)\n",
    "print(\"Perceptron =\", score_P)\n",
    "print(\"RidgeClass =\", score_Rd)\n",
    "print(\"RidgeCV =\", score_Rcv)\n",
    "print(\"SDGClass =\", score_SDG)"
   ]
  },
  {
   "cell_type": "code",
   "execution_count": null,
   "id": "a8bb0978",
   "metadata": {},
   "outputs": [],
   "source": []
  }
 ],
 "metadata": {
  "kernelspec": {
   "display_name": "Python 3",
   "language": "python",
   "name": "python3"
  },
  "language_info": {
   "codemirror_mode": {
    "name": "ipython",
    "version": 3
   },
   "file_extension": ".py",
   "mimetype": "text/x-python",
   "name": "python",
   "nbconvert_exporter": "python",
   "pygments_lexer": "ipython3",
   "version": "3.8.8"
  }
 },
 "nbformat": 4,
 "nbformat_minor": 5
}
