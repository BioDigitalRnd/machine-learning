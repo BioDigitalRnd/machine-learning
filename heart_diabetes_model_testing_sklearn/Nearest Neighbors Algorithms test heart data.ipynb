{
 "cells": [
  {
   "cell_type": "code",
   "execution_count": 1,
   "id": "b069c096",
   "metadata": {},
   "outputs": [],
   "source": [
    "# Nearest neighbours algorithms\n",
    "\n",
    "# import algorithms\n",
    "import pandas as pd\n",
    "from sklearn.neighbors import (KNeighborsClassifier,\n",
    "                               RadiusNeighborsClassifier, NearestCentroid)\n",
    "from sklearn.model_selection import train_test_split\n",
    "from sklearn.metrics import accuracy_score"
   ]
  },
  {
   "cell_type": "code",
   "execution_count": 2,
   "id": "57cd96d4",
   "metadata": {
    "scrolled": true
   },
   "outputs": [],
   "source": [
    "# read data and assign independent and dependent variables\n",
    "heart_data = pd.read_csv('diabetes.csv')\n",
    "X = heart_data.drop(columns=['Outcome'])\n",
    "y = heart_data['Outcome']\n",
    "X_train, X_test, y_train, y_test = train_test_split(X, y, test_size=0.2) #split data in two parts"
   ]
  },
  {
   "cell_type": "code",
   "execution_count": 34,
   "id": "26063476",
   "metadata": {},
   "outputs": [
    {
     "name": "stdout",
     "output_type": "stream",
     "text": [
      "KNeighbors = 70.779%\n",
      "NearestCentroid = 64.286%\n"
     ]
    }
   ],
   "source": [
    "# X_train, X_test, y_train, y_test = train_test_split(X, y, test_size=0.2) #split data in two parts\n",
    "\n",
    "# apply algorithms to data\n",
    "model_KN = KNeighborsClassifier()\n",
    "model_KN.fit(X_train, y_train)\n",
    "# model_RN = RadiusNeighborsClassifier()\n",
    "# model_RN.fit(X_train, y_train)\n",
    "model_NC = NearestCentroid()\n",
    "model_NC.fit(X_train, y_train)\n",
    "\n",
    "\n",
    "# make predictions using test data\n",
    "predictions_KN = model_KN.predict(X_test)\n",
    "# predictions_RN = model_RN.predict(X_test)\n",
    "predictions_NC = model_NC.predict(X_test)\n",
    "\n",
    "\n",
    "# compare predictions with test values\n",
    "score_KN = accuracy_score(y_test, predictions_KN)\n",
    "# score_RN = accuracy_score(y_test, predictions_RN)\n",
    "score_NC = accuracy_score(y_test, predictions_NC)\n",
    "\n",
    "\n",
    "\n",
    "print(f\"KNeighbors = {score_KN*100:.3f}%\")\n",
    "# print(f\"RadNeighbors = {score_RN}%\")\n",
    "print(f\"NearestCentroid = {score_NC*100:.3f}%\")\n"
   ]
  },
  {
   "cell_type": "code",
   "execution_count": 18,
   "id": "8a54a43e",
   "metadata": {},
   "outputs": [
    {
     "data": {
      "text/plain": [
       "array([0.74025974, 0.72727273, 0.7012987 , 0.66233766, 0.71428571,\n",
       "       0.79220779, 0.77922078, 0.85714286, 0.78947368, 0.78947368])"
      ]
     },
     "execution_count": 18,
     "metadata": {},
     "output_type": "execute_result"
    }
   ],
   "source": [
    "from sklearn.model_selection import cross_val_score\n",
    "\n",
    "kn = KNeighborsClassifier(17)\n",
    "cross_val_score(kn, X, y, cv=10)"
   ]
  }
 ],
 "metadata": {
  "kernelspec": {
   "display_name": "Python 3",
   "language": "python",
   "name": "python3"
  },
  "language_info": {
   "codemirror_mode": {
    "name": "ipython",
    "version": 3
   },
   "file_extension": ".py",
   "mimetype": "text/x-python",
   "name": "python",
   "nbconvert_exporter": "python",
   "pygments_lexer": "ipython3",
   "version": "3.8.8"
  }
 },
 "nbformat": 4,
 "nbformat_minor": 5
}
