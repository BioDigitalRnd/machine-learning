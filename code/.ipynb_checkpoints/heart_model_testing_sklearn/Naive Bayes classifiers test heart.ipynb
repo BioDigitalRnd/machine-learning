{
 "cells": [
  {
   "cell_type": "code",
   "execution_count": 3,
   "id": "feef3655",
   "metadata": {},
   "outputs": [],
   "source": [
    "# import the algorithms (Naive Bayes)\n",
    "import pandas as pd\n",
    "from sklearn.naive_bayes import (BernoulliNB, CategoricalNB, ComplementNB,\n",
    "                                 GaussianNB, MultinomialNB)\n",
    "from sklearn.model_selection import train_test_split\n",
    "from sklearn.metrics import accuracy_score"
   ]
  },
  {
   "cell_type": "code",
   "execution_count": 69,
   "id": "eb48147b",
   "metadata": {},
   "outputs": [],
   "source": [
    "# read data and assign independent and dependent variables\n",
    "heart_data = pd.read_csv('heart.csv')\n",
    "X = heart_data.drop(columns=['target'])\n",
    "y = heart_data['target']\n",
    "# X_train, X_test, y_train, y_test = train_test_split(X, y, test_size=0.2) #split data in two parts\n"
   ]
  },
  {
   "cell_type": "code",
   "execution_count": 135,
   "id": "b27220c6",
   "metadata": {
    "scrolled": true
   },
   "outputs": [
    {
     "name": "stdout",
     "output_type": "stream",
     "text": [
      "Bernoulli = 72.131%\n",
      "Complement = 75.410%\n",
      "Gaussian = 80.328%\n",
      "Multinomial = 73.770%\n"
     ]
    }
   ],
   "source": [
    "X_train, X_test, y_train, y_test = train_test_split(X, y, test_size=0.2) #split data in two parts\n",
    "\n",
    "# apply algorithms to data\n",
    "modelB = BernoulliNB()\n",
    "modelB.fit(X_train, y_train)\n",
    "# modelCa = CategoricalNB()\n",
    "# modelCa.fit(X_train, y_train)\n",
    "modelCm = ComplementNB()\n",
    "modelCm.fit(X_train, y_train)\n",
    "modelGa = GaussianNB()\n",
    "modelGa.fit(X_train, y_train)\n",
    "modelMu = MultinomialNB()\n",
    "modelMu.fit(X_train, y_train)\n",
    "\n",
    "# make predictions using test data\n",
    "predictionsB = modelB.predict(X_test)\n",
    "# predictionsCa = modelCa.predict(X_test) #may produce errors based on values\n",
    "predictionsCm = modelCm.predict(X_test)\n",
    "predictionsGa = modelGa.predict(X_test)\n",
    "predictionsMu = modelMu.predict(X_test)\n",
    "\n",
    "# compare predictions with real values\n",
    "scoreB = accuracy_score(y_test, predictionsB)\n",
    "# scoreCa = accuracy_score(y_test, predictionsCa)\n",
    "scoreCm = accuracy_score(y_test, predictionsCm)\n",
    "scoreGa = accuracy_score(y_test, predictionsGa)\n",
    "scoreMu = accuracy_score(y_test, predictionsMu)\n",
    "\n",
    "print(f\"Bernoulli = {scoreB*100:.3f}%\")\n",
    "# print(\"Categorical = \", scoreCa)\n",
    "print(f\"Complement = {scoreCm*100:.3f}%\")\n",
    "print(f\"Gaussian = {scoreGa*100:.3f}%\")\n",
    "print(f\"Multinomial = {scoreMu*100:.3f}%\")\n"
   ]
  }
 ],
 "metadata": {
  "kernelspec": {
   "display_name": "Python 3",
   "language": "python",
   "name": "python3"
  },
  "language_info": {
   "codemirror_mode": {
    "name": "ipython",
    "version": 3
   },
   "file_extension": ".py",
   "mimetype": "text/x-python",
   "name": "python",
   "nbconvert_exporter": "python",
   "pygments_lexer": "ipython3",
   "version": "3.8.8"
  }
 },
 "nbformat": 4,
 "nbformat_minor": 5
}
