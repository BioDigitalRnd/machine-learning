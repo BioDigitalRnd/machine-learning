{
 "cells": [
  {
   "cell_type": "code",
   "execution_count": 1,
   "id": "9f3eca2f",
   "metadata": {},
   "outputs": [],
   "source": [
    "import pandas as pd\n",
    "import numpy as np\n",
    "import matplotlib.pyplot as plt\n",
    "from sklearn.cluster import KMeans"
   ]
  },
  {
   "cell_type": "code",
   "execution_count": 2,
   "id": "d4d5589a",
   "metadata": {
    "scrolled": true
   },
   "outputs": [],
   "source": [
    "# load all patient files and store them in a dictionary named patients\n",
    "patients = {}\n",
    "for m in range(1,54):\n",
    "    patients[f\"patient{m}\"] = pd.read_csv(\n",
    "        f'bidmc_{str(m).zfill(2)}_Numerics.csv',\n",
    "    na_values='NaN'\n",
    "    )\n",
    "    patients[f'patient{m}']['id'] = [m]*len(patients[f'patient{m}']) \n",
    "    #add id column\n"
   ]
  },
  {
   "cell_type": "code",
   "execution_count": 3,
   "id": "63513434",
   "metadata": {},
   "outputs": [
    {
     "name": "stdout",
     "output_type": "stream",
     "text": [
      "patient18\n"
     ]
    }
   ],
   "source": [
    "# Extract age and gender data from text files\n",
    "\n",
    "patient_age = {}\n",
    "patient_gender_M = {}\n",
    "patient_gender_F = {}\n",
    "\n",
    "for x in range(1, 54):\n",
    "    with open (f'bidmc_{str(x).zfill(2)}_Fix.txt') as pt:\n",
    "        for rec in pt:\n",
    "            if rec[0:3] == 'Age':\n",
    "                if not rec[5:7] == 'Na':\n",
    "                    patient_age[f'patient{x}'] = int(rec[5:7])\n",
    "                else:\n",
    "                    patient_age[f'patient{x}'] = 'NaN'\n",
    "            if rec[0:3] == 'Gen':\n",
    "                if rec[8] == 'M':\n",
    "                    patient_gender_M[f'patient{x}'] = 1\n",
    "                    patient_gender_F[f'patient{x}'] = 0\n",
    "                elif rec[8] == 'F':\n",
    "                    patient_gender_F[f'patient{x}'] = 1\n",
    "                    patient_gender_M[f'patient{x}'] = 0\n",
    "                else:\n",
    "                    print(f'patient{x}')\n",
    "                    patient_gender_F[f'patient{x}'] = 'NaN'\n",
    "                    patient_gender_M[f'patient{x}'] = 'NaN'\n",
    "                \n",
    "\n",
    "# create new columns for age and gender and assign them to each patient\n",
    "for dat in range(1,54):\n",
    "    patients[f'patient{dat}']['age'] = patient_age[f'patient{dat}']\n",
    "    patients[f'patient{dat}']['gender_M'] = patient_gender_M[f'patient{dat}']\n",
    "    patients[f'patient{dat}']['gender_F'] = patient_gender_F[f'patient{dat}']"
   ]
  },
  {
   "cell_type": "code",
   "execution_count": 4,
   "id": "cf9831b6",
   "metadata": {},
   "outputs": [
    {
     "data": {
      "text/plain": [
       "['Time [s]',\n",
       " ' HR',\n",
       " ' PULSE',\n",
       " ' RESP',\n",
       " ' SpO2',\n",
       " 'id',\n",
       " 'age',\n",
       " 'gender_M',\n",
       " 'gender_F']"
      ]
     },
     "execution_count": 4,
     "metadata": {},
     "output_type": "execute_result"
    }
   ],
   "source": [
    "list(patients['patient1'])"
   ]
  },
  {
   "cell_type": "code",
   "execution_count": 5,
   "id": "799ba6b0",
   "metadata": {},
   "outputs": [],
   "source": [
    "# rename column names for all patient files\n",
    "\n",
    "for patient in patients:\n",
    "    patients[patient].rename({\n",
    "        \"Time [s]\":\"time\",\n",
    "        \" HR\": \"hr\",\n",
    "        \" PULSE\": \"pulse\",\n",
    "        \" RESP\":\"resp\",\n",
    "        \" SpO2\": \"spo2\"\n",
    "    }, axis=1, inplace=True)"
   ]
  },
  {
   "cell_type": "code",
   "execution_count": 6,
   "id": "d9e14f60",
   "metadata": {
    "scrolled": false
   },
   "outputs": [
    {
     "name": "stdout",
     "output_type": "stream",
     "text": [
      "patient1\n",
      "time         0\n",
      "hr           0\n",
      "pulse       13\n",
      "resp         0\n",
      "spo2        13\n",
      "id           0\n",
      "age          0\n",
      "gender_M     0\n",
      "gender_F     0\n",
      "dtype: int64\n",
      "patient5\n",
      "time        0\n",
      "hr          0\n",
      "pulse       6\n",
      "resp        0\n",
      "spo2        6\n",
      "id          0\n",
      "age         0\n",
      "gender_M    0\n",
      "gender_F    0\n",
      "dtype: int64\n",
      "patient13\n",
      "time          0\n",
      "hr            0\n",
      "pulse         0\n",
      "resp        146\n",
      "spo2          0\n",
      "id            0\n",
      "age           0\n",
      "gender_M      0\n",
      "gender_F      0\n",
      "dtype: int64\n",
      "patient15\n",
      "time        0\n",
      "hr          0\n",
      "pulse       0\n",
      "resp        3\n",
      "spo2        0\n",
      "id          0\n",
      "age         0\n",
      "gender_M    0\n",
      "gender_F    0\n",
      "dtype: int64\n",
      "patient18\n",
      "time          0\n",
      "hr            0\n",
      "pulse         0\n",
      "resp          0\n",
      "spo2          0\n",
      "id            0\n",
      "age         481\n",
      "gender_M    481\n",
      "gender_F    481\n",
      "dtype: int64\n",
      "patient19\n",
      "time          0\n",
      "hr            0\n",
      "pulse       102\n",
      "resp          4\n",
      "spo2        102\n",
      "id            0\n",
      "age           0\n",
      "gender_M      0\n",
      "gender_F      0\n",
      "dtype: int64\n",
      "patient25\n",
      "time        0\n",
      "hr          0\n",
      "pulse       1\n",
      "resp        0\n",
      "spo2        1\n",
      "id          0\n",
      "age         0\n",
      "gender_M    0\n",
      "gender_F    0\n",
      "dtype: int64\n",
      "patient27\n",
      "time        0\n",
      "hr          4\n",
      "pulse       0\n",
      "resp        0\n",
      "spo2        0\n",
      "id          0\n",
      "age         0\n",
      "gender_M    0\n",
      "gender_F    0\n",
      "dtype: int64\n",
      "patient44\n",
      "time        0\n",
      "hr          0\n",
      "pulse       6\n",
      "resp        0\n",
      "spo2        6\n",
      "id          0\n",
      "age         0\n",
      "gender_M    0\n",
      "gender_F    0\n",
      "dtype: int64\n"
     ]
    }
   ],
   "source": [
    "# identify which patients have missing information\n",
    "patient_features = ['time', 'hr', 'pulse', 'resp', 'spo2', 'age', 'gender_M', 'gender_F']\n",
    "indicator = 1\n",
    "for patient in patients:\n",
    "    patients[patient].replace('NaN', np.nan, inplace=True)\n",
    "    \n",
    "    for feature in patient_features:\n",
    "        if patients[patient][feature].isna().sum() > 0:\n",
    "            print(f\"patient{indicator}\")\n",
    "            print(patients[patient].isna().sum())\n",
    "            break\n",
    "    indicator = indicator + 1"
   ]
  },
  {
   "cell_type": "code",
   "execution_count": 7,
   "id": "e9f863c0",
   "metadata": {
    "scrolled": true
   },
   "outputs": [
    {
     "data": {
      "text/plain": [
       "4"
      ]
     },
     "execution_count": 7,
     "metadata": {},
     "output_type": "execute_result"
    }
   ],
   "source": [
    "\n",
    "patients['patient19']['resp'].isnull().sum()"
   ]
  },
  {
   "cell_type": "markdown",
   "id": "a209e250",
   "metadata": {},
   "source": [
    "## List of patients with missing data\n",
    "patient 1 (13 pulse/spo2) patient 13 (146 resp) patient 15 (3 resp) patient 19 (102 pulse/spo2 and 4 resp) patient 27 (4 hr), patient 25 (1 pulse/spo2) patient 44 (6 pulse/spo2)"
   ]
  },
  {
   "cell_type": "code",
   "execution_count": 8,
   "id": "2b2ac67f",
   "metadata": {},
   "outputs": [],
   "source": [
    "# remove rows where there are missing pulse values\n",
    "for patient in patients:\n",
    "    patients[patient].dropna(how='any', subset=['pulse'], inplace=True)"
   ]
  },
  {
   "cell_type": "code",
   "execution_count": 9,
   "id": "b321ddcb",
   "metadata": {},
   "outputs": [],
   "source": [
    "# make new list of patient profiles concatinated together\n",
    "patients_df= []\n",
    "for patient in patients:\n",
    "    patients_df.append(patients[patient])"
   ]
  },
  {
   "cell_type": "code",
   "execution_count": 10,
   "id": "ba25e9b2",
   "metadata": {},
   "outputs": [],
   "source": [
    "# Combine all patient profiles into one\n",
    "patients_df = pd.concat(patients_df)"
   ]
  },
  {
   "cell_type": "code",
   "execution_count": 11,
   "id": "3c8b7ea2",
   "metadata": {},
   "outputs": [],
   "source": [
    "patients_df.reset_index(drop=True, inplace=True)"
   ]
  },
  {
   "cell_type": "code",
   "execution_count": 12,
   "id": "3458e5ea",
   "metadata": {
    "scrolled": true
   },
   "outputs": [
    {
     "data": {
      "text/plain": [
       "153"
      ]
     },
     "execution_count": 12,
     "metadata": {},
     "output_type": "execute_result"
    }
   ],
   "source": [
    "patients_df['resp'].isnull().sum()"
   ]
  },
  {
   "cell_type": "code",
   "execution_count": 13,
   "id": "02c8e077",
   "metadata": {},
   "outputs": [],
   "source": [
    "# drop all rows with missing resp values\n",
    "patients_df.dropna(how='any', subset=['resp'], inplace=True)"
   ]
  },
  {
   "cell_type": "code",
   "execution_count": 14,
   "id": "4d59ee65",
   "metadata": {},
   "outputs": [],
   "source": [
    "# drop all rows with missing hr values\n",
    "patients_df.dropna(how='any', subset=['hr'], inplace=True)"
   ]
  },
  {
   "cell_type": "code",
   "execution_count": 15,
   "id": "25221945",
   "metadata": {},
   "outputs": [],
   "source": [
    "# drop all rows with missing age values\n",
    "patients_df.dropna(how='any', subset=['age'], inplace=True)"
   ]
  },
  {
   "cell_type": "code",
   "execution_count": 16,
   "id": "04bf1b77",
   "metadata": {},
   "outputs": [],
   "source": [
    "# train model with k value of 2\n",
    "kmeans = KMeans(n_clusters=2, random_state=0)"
   ]
  },
  {
   "cell_type": "code",
   "execution_count": 17,
   "id": "aa7f25c7",
   "metadata": {
    "scrolled": true
   },
   "outputs": [],
   "source": [
    "kmeans.fit(patients_df)\n",
    "groups = kmeans.labels_"
   ]
  },
  {
   "cell_type": "code",
   "execution_count": 18,
   "id": "8a4de438",
   "metadata": {
    "scrolled": false
   },
   "outputs": [
    {
     "data": {
      "text/plain": [
       "{0: 12411, 1: 12316}"
      ]
     },
     "execution_count": 18,
     "metadata": {},
     "output_type": "execute_result"
    }
   ],
   "source": [
    "unique, counts = np.unique(groups, return_counts=True)\n",
    "dict(zip(unique, counts))"
   ]
  },
  {
   "cell_type": "code",
   "execution_count": 19,
   "id": "7b1de175",
   "metadata": {
    "scrolled": false
   },
   "outputs": [
    {
     "data": {
      "text/plain": [
       "array([[359.98485215,  89.24534687,  88.68262026,  17.46636049,\n",
       "         96.70614777,  27.27419225,  64.61896705,   0.38812344,\n",
       "          0.61187656],\n",
       "       [119.40841182,  89.46151348,  88.55245209,  17.55984086,\n",
       "         96.65272816,  27.3429685 ,  64.56341345,   0.38835661,\n",
       "          0.61164339]])"
      ]
     },
     "execution_count": 19,
     "metadata": {},
     "output_type": "execute_result"
    }
   ],
   "source": [
    "kmeans.cluster_centers_"
   ]
  },
  {
   "cell_type": "code",
   "execution_count": 20,
   "id": "06f8cc09",
   "metadata": {},
   "outputs": [],
   "source": [
    "titles = list(patients_df)"
   ]
  },
  {
   "cell_type": "code",
   "execution_count": 21,
   "id": "8d171fd1",
   "metadata": {},
   "outputs": [],
   "source": [
    "# swap id and time columns\n",
    "titles[0], titles[5] = titles[5], titles[0]"
   ]
  },
  {
   "cell_type": "code",
   "execution_count": 22,
   "id": "2fe8d936",
   "metadata": {
    "scrolled": true
   },
   "outputs": [],
   "source": [
    "patients_df = patients_df[titles]"
   ]
  },
  {
   "cell_type": "code",
   "execution_count": 23,
   "id": "286e8281",
   "metadata": {},
   "outputs": [
    {
     "data": {
      "text/html": [
       "<div>\n",
       "<style scoped>\n",
       "    .dataframe tbody tr th:only-of-type {\n",
       "        vertical-align: middle;\n",
       "    }\n",
       "\n",
       "    .dataframe tbody tr th {\n",
       "        vertical-align: top;\n",
       "    }\n",
       "\n",
       "    .dataframe thead th {\n",
       "        text-align: right;\n",
       "    }\n",
       "</style>\n",
       "<table border=\"1\" class=\"dataframe\">\n",
       "  <thead>\n",
       "    <tr style=\"text-align: right;\">\n",
       "      <th></th>\n",
       "      <th>id</th>\n",
       "      <th>hr</th>\n",
       "      <th>pulse</th>\n",
       "      <th>resp</th>\n",
       "      <th>spo2</th>\n",
       "      <th>time</th>\n",
       "      <th>age</th>\n",
       "      <th>gender_M</th>\n",
       "      <th>gender_F</th>\n",
       "    </tr>\n",
       "  </thead>\n",
       "  <tbody>\n",
       "    <tr>\n",
       "      <th>0</th>\n",
       "      <td>1</td>\n",
       "      <td>94.0</td>\n",
       "      <td>93.0</td>\n",
       "      <td>25.0</td>\n",
       "      <td>97.0</td>\n",
       "      <td>0</td>\n",
       "      <td>88.0</td>\n",
       "      <td>1.0</td>\n",
       "      <td>0.0</td>\n",
       "    </tr>\n",
       "    <tr>\n",
       "      <th>1</th>\n",
       "      <td>1</td>\n",
       "      <td>94.0</td>\n",
       "      <td>93.0</td>\n",
       "      <td>25.0</td>\n",
       "      <td>97.0</td>\n",
       "      <td>1</td>\n",
       "      <td>88.0</td>\n",
       "      <td>1.0</td>\n",
       "      <td>0.0</td>\n",
       "    </tr>\n",
       "    <tr>\n",
       "      <th>2</th>\n",
       "      <td>1</td>\n",
       "      <td>94.0</td>\n",
       "      <td>93.0</td>\n",
       "      <td>25.0</td>\n",
       "      <td>97.0</td>\n",
       "      <td>2</td>\n",
       "      <td>88.0</td>\n",
       "      <td>1.0</td>\n",
       "      <td>0.0</td>\n",
       "    </tr>\n",
       "    <tr>\n",
       "      <th>3</th>\n",
       "      <td>1</td>\n",
       "      <td>92.0</td>\n",
       "      <td>93.0</td>\n",
       "      <td>26.0</td>\n",
       "      <td>97.0</td>\n",
       "      <td>3</td>\n",
       "      <td>88.0</td>\n",
       "      <td>1.0</td>\n",
       "      <td>0.0</td>\n",
       "    </tr>\n",
       "    <tr>\n",
       "      <th>4</th>\n",
       "      <td>1</td>\n",
       "      <td>93.0</td>\n",
       "      <td>93.0</td>\n",
       "      <td>26.0</td>\n",
       "      <td>97.0</td>\n",
       "      <td>4</td>\n",
       "      <td>88.0</td>\n",
       "      <td>1.0</td>\n",
       "      <td>0.0</td>\n",
       "    </tr>\n",
       "    <tr>\n",
       "      <th>...</th>\n",
       "      <td>...</td>\n",
       "      <td>...</td>\n",
       "      <td>...</td>\n",
       "      <td>...</td>\n",
       "      <td>...</td>\n",
       "      <td>...</td>\n",
       "      <td>...</td>\n",
       "      <td>...</td>\n",
       "      <td>...</td>\n",
       "    </tr>\n",
       "    <tr>\n",
       "      <th>25360</th>\n",
       "      <td>53</td>\n",
       "      <td>92.0</td>\n",
       "      <td>95.0</td>\n",
       "      <td>18.0</td>\n",
       "      <td>100.0</td>\n",
       "      <td>476</td>\n",
       "      <td>81.0</td>\n",
       "      <td>1.0</td>\n",
       "      <td>0.0</td>\n",
       "    </tr>\n",
       "    <tr>\n",
       "      <th>25361</th>\n",
       "      <td>53</td>\n",
       "      <td>90.0</td>\n",
       "      <td>95.0</td>\n",
       "      <td>19.0</td>\n",
       "      <td>100.0</td>\n",
       "      <td>477</td>\n",
       "      <td>81.0</td>\n",
       "      <td>1.0</td>\n",
       "      <td>0.0</td>\n",
       "    </tr>\n",
       "    <tr>\n",
       "      <th>25362</th>\n",
       "      <td>53</td>\n",
       "      <td>97.0</td>\n",
       "      <td>95.0</td>\n",
       "      <td>19.0</td>\n",
       "      <td>100.0</td>\n",
       "      <td>478</td>\n",
       "      <td>81.0</td>\n",
       "      <td>1.0</td>\n",
       "      <td>0.0</td>\n",
       "    </tr>\n",
       "    <tr>\n",
       "      <th>25363</th>\n",
       "      <td>53</td>\n",
       "      <td>99.0</td>\n",
       "      <td>95.0</td>\n",
       "      <td>19.0</td>\n",
       "      <td>100.0</td>\n",
       "      <td>479</td>\n",
       "      <td>81.0</td>\n",
       "      <td>1.0</td>\n",
       "      <td>0.0</td>\n",
       "    </tr>\n",
       "    <tr>\n",
       "      <th>25364</th>\n",
       "      <td>53</td>\n",
       "      <td>94.0</td>\n",
       "      <td>95.0</td>\n",
       "      <td>19.0</td>\n",
       "      <td>100.0</td>\n",
       "      <td>480</td>\n",
       "      <td>81.0</td>\n",
       "      <td>1.0</td>\n",
       "      <td>0.0</td>\n",
       "    </tr>\n",
       "  </tbody>\n",
       "</table>\n",
       "<p>24727 rows × 9 columns</p>\n",
       "</div>"
      ],
      "text/plain": [
       "       id    hr  pulse  resp   spo2  time   age  gender_M  gender_F\n",
       "0       1  94.0   93.0  25.0   97.0     0  88.0       1.0       0.0\n",
       "1       1  94.0   93.0  25.0   97.0     1  88.0       1.0       0.0\n",
       "2       1  94.0   93.0  25.0   97.0     2  88.0       1.0       0.0\n",
       "3       1  92.0   93.0  26.0   97.0     3  88.0       1.0       0.0\n",
       "4       1  93.0   93.0  26.0   97.0     4  88.0       1.0       0.0\n",
       "...    ..   ...    ...   ...    ...   ...   ...       ...       ...\n",
       "25360  53  92.0   95.0  18.0  100.0   476  81.0       1.0       0.0\n",
       "25361  53  90.0   95.0  19.0  100.0   477  81.0       1.0       0.0\n",
       "25362  53  97.0   95.0  19.0  100.0   478  81.0       1.0       0.0\n",
       "25363  53  99.0   95.0  19.0  100.0   479  81.0       1.0       0.0\n",
       "25364  53  94.0   95.0  19.0  100.0   480  81.0       1.0       0.0\n",
       "\n",
       "[24727 rows x 9 columns]"
      ]
     },
     "execution_count": 23,
     "metadata": {},
     "output_type": "execute_result"
    }
   ],
   "source": [
    "patients_df"
   ]
  },
  {
   "cell_type": "code",
   "execution_count": 24,
   "id": "2eecd751",
   "metadata": {},
   "outputs": [],
   "source": [
    "# train kmeans model for two centroids\n",
    "kmean = KMeans(n_clusters=2, random_state=0)\n",
    "kmean.fit(patients_df)\n",
    "clusters = kmean.labels_"
   ]
  },
  {
   "cell_type": "code",
   "execution_count": 25,
   "id": "201e5e46",
   "metadata": {},
   "outputs": [
    {
     "data": {
      "text/plain": [
       "{0: 12411, 1: 12316}"
      ]
     },
     "execution_count": 25,
     "metadata": {},
     "output_type": "execute_result"
    }
   ],
   "source": [
    "# display the number of data points within each cluster\n",
    "unique, counts = np.unique(clusters, return_counts=True)\n",
    "dict(zip(unique, counts))"
   ]
  },
  {
   "cell_type": "code",
   "execution_count": 26,
   "id": "b54c324b",
   "metadata": {
    "scrolled": true
   },
   "outputs": [
    {
     "data": {
      "text/plain": [
       "array([[ 27.27419225,  89.24534687,  88.68262026,  17.46636049,\n",
       "         96.70614777, 359.98485215,  64.61896705,   0.38812344,\n",
       "          0.61187656],\n",
       "       [ 27.3429685 ,  89.46151348,  88.55245209,  17.55984086,\n",
       "         96.65272816, 119.40841182,  64.56341345,   0.38835661,\n",
       "          0.61164339]])"
      ]
     },
     "execution_count": 26,
     "metadata": {},
     "output_type": "execute_result"
    }
   ],
   "source": [
    "kmean.cluster_centers_"
   ]
  },
  {
   "cell_type": "markdown",
   "id": "322d319b",
   "metadata": {},
   "source": [
    "As shown above, changing the order of the columns (id column to first and time column to last) does not affect how the model groups together the data."
   ]
  },
  {
   "cell_type": "code",
   "execution_count": 27,
   "id": "757328f0",
   "metadata": {
    "scrolled": false
   },
   "outputs": [
    {
     "data": {
      "image/png": "[encoded data removed]",
      "text/plain": [
       "<Figure size 432x288 with 1 Axes>"
      ]
     },
     "metadata": {
      "needs_background": "light"
     },
     "output_type": "display_data"
    }
   ],
   "source": [
    "plt.scatter(patients_df['hr'], patients_df['time'], s = 1, c = 'b')\n",
    "plt.show()"
   ]
  },
  {
   "cell_type": "code",
   "execution_count": 41,
   "id": "58288ffa",
   "metadata": {
    "scrolled": true
   },
   "outputs": [
    {
     "data": {
      "text/plain": [
       "<matplotlib.collections.PathCollection at 0x15b097a84f0>"
      ]
     },
     "execution_count": 41,
     "metadata": {},
     "output_type": "execute_result"
    },
    {
     "data": {
      "image/png": "[encoded data removed]",
      "text/plain": [
       "<Figure size 576x432 with 1 Axes>"
      ]
     },
     "metadata": {
      "needs_background": "light"
     },
     "output_type": "display_data"
    }
   ],
   "source": [
    "plt.figure(figsize=(8, 6))\n",
    "plt.scatter(patients_df['age'], patients_df['resp'], c=kmean.labels_.astype(float))"
   ]
  },
  {
   "cell_type": "code",
   "execution_count": 29,
   "id": "d3a4215b",
   "metadata": {},
   "outputs": [],
   "source": [
    "kmean4 = KMeans(n_clusters=4, random_state=0).fit(patients_df.drop(columns=['time', 'id']))\n",
    "clusters4 = kmean4.labels_"
   ]
  },
  {
   "cell_type": "code",
   "execution_count": 30,
   "id": "a9881de0",
   "metadata": {
    "scrolled": true
   },
   "outputs": [
    {
     "data": {
      "text/plain": [
       "{0: 7135, 1: 3942, 2: 7928, 3: 5722}"
      ]
     },
     "execution_count": 30,
     "metadata": {},
     "output_type": "execute_result"
    }
   ],
   "source": [
    "unique, counts = np.unique(clusters4, return_counts=True)\n",
    "dict(zip(unique, counts))"
   ]
  },
  {
   "cell_type": "code",
   "execution_count": 31,
   "id": "35ab00bc",
   "metadata": {},
   "outputs": [
    {
     "data": {
      "text/plain": [
       "array([[ 79.64723196,  78.17813595,  16.92669937,  95.59004905,\n",
       "         76.90049054,   0.26475123,   0.73524877],\n",
       "       [112.14129883, 111.98021309,  17.45865043,  97.23896499,\n",
       "         47.5058346 ,   0.37569762,   0.62430238],\n",
       "       [ 93.044778  ,  92.44033804,  18.3015893 ,  96.89492936,\n",
       "         75.43377901,   0.48826942,   0.51173058],\n",
       "       [ 80.64120937,  80.24432017,  17.18857043,  97.35424677,\n",
       "         45.99038798,   0.41226844,   0.58773156]])"
      ]
     },
     "execution_count": 31,
     "metadata": {},
     "output_type": "execute_result"
    }
   ],
   "source": [
    "kmean4.cluster_centers_"
   ]
  },
  {
   "cell_type": "code",
   "execution_count": 35,
   "id": "7ebd8375",
   "metadata": {
    "scrolled": true
   },
   "outputs": [
    {
     "data": {
      "text/plain": [
       "<matplotlib.collections.PathCollection at 0x15b078ef190>"
      ]
     },
     "execution_count": 35,
     "metadata": {},
     "output_type": "execute_result"
    },
    {
     "data": {
      "image/png": "[encoded data removed]",
      "text/plain": [
       "<Figure size 576x432 with 1 Axes>"
      ]
     },
     "metadata": {
      "needs_background": "light"
     },
     "output_type": "display_data"
    }
   ],
   "source": [
    "# plot scatter with different colours for each cluster\n",
    "plt.figure(figsize=(8, 6))\n",
    "plt.scatter(patients_df['gender_M'], patients_df['hr'], c=kmean4.labels_.astype(float), s=15)"
   ]
  },
  {
   "cell_type": "code",
   "execution_count": 33,
   "id": "8b654198",
   "metadata": {},
   "outputs": [
    {
     "name": "stdout",
     "output_type": "stream",
     "text": [
      "Silhouette Score (n=2)0.0005100930193006817\n",
      "Silhouette Score (n=4)0.3407424871894163\n",
      "Silhouette Score (n=2)0.40207162080770925\n"
     ]
    }
   ],
   "source": [
    "from sklearn.metrics import silhouette_score\n",
    "\n",
    "z = patients_df.drop(columns=['time', 'id'])\n",
    "label = kmean.predict(patients_df)\n",
    "label4 = kmean4.predict(z)\n",
    "\n",
    "kmean2 = KMeans(n_clusters=2, random_state=0).fit(patients_df.drop(columns=['time', 'id']))\n",
    "label2 = kmean2.predict(z)\n",
    "\n",
    "print(f'Silhouette Score (n=2) {silhouette_score(z, label)}')\n",
    "print(f'Silhouette Score (n=4) {silhouette_score(z, label4)}')\n",
    "\n",
    "print(f'Silhouette Score (n=2) {silhouette_score(z, label2)}') "
   ]
  },
  {
   "cell_type": "markdown",
   "id": "ee0d3104",
   "metadata": {},
   "source": [
    "Better silhouette score without time and id columns for two clusters (centroids)"
   ]
  },
  {
   "cell_type": "code",
   "execution_count": 37,
   "id": "4d9a2eee",
   "metadata": {},
   "outputs": [],
   "source": [
    "kmean4_ = KMeans(n_clusters=3, random_state=0).fit(patients_df.drop(columns=['time', 'id']))\n",
    "label4_ = kmean4_.predict(z)"
   ]
  },
  {
   "cell_type": "code",
   "execution_count": 39,
   "id": "5fe4d760",
   "metadata": {},
   "outputs": [
    {
     "name": "stdout",
     "output_type": "stream",
     "text": [
      "Silhouette Score (n=3) 0.40237231577037624\n"
     ]
    }
   ],
   "source": [
    "print(f'Silhouette Score (n=3) {silhouette_score(z, label4_)}')\n"
   ]
  }
 ],
 "metadata": {
  "kernelspec": {
   "display_name": "Python 3",
   "language": "python",
   "name": "python3"
  },
  "language_info": {
   "codemirror_mode": {
    "name": "ipython",
    "version": 3
   },
   "file_extension": ".py",
   "mimetype": "text/x-python",
   "name": "python",
   "nbconvert_exporter": "python",
   "pygments_lexer": "ipython3",
   "version": "3.8.8"
  }
 },
 "nbformat": 4,
 "nbformat_minor": 5
}
