{
 "cells": [
  {
   "cell_type": "code",
   "execution_count": 1,
   "id": "b5a2af1e",
   "metadata": {},
   "outputs": [],
   "source": [
    "import pandas as pd\n",
    "from sklearn.tree import DecisionTreeClassifier\n",
    "from sklearn.model_selection import train_test_split\n",
    "from sklearn.metrics import accuracy_score"
   ]
  },
  {
   "cell_type": "code",
   "execution_count": 2,
   "id": "7c873c1d",
   "metadata": {},
   "outputs": [],
   "source": [
    "# read data and assign independent and dependent variables\n",
    "heart_data = pd.read_csv('heart.csv')\n",
    "X = heart_data.drop(columns=['target'])\n",
    "y = heart_data['target']\n",
    "X_train, X_test, y_train, y_test = train_test_split(X, y, test_size=0.2) #split data in two parts"
   ]
  },
  {
   "cell_type": "code",
   "execution_count": 4,
   "id": "edc25a7b",
   "metadata": {},
   "outputs": [
    {
     "name": "stdout",
     "output_type": "stream",
     "text": [
      "0.7377049180327869\n"
     ]
    }
   ],
   "source": [
    "# apply algorithms to data\n",
    "model = DecisionTreeClassifier()\n",
    "model.fit(X_train, y_train)\n",
    "\n",
    "#make predictions using test data\n",
    "predictions = model.predict(X_test)\n",
    "\n",
    "#compare predictions with real values\n",
    "score = accuracy_score(y_test, predictions)\n",
    "\n",
    "#display algorithms accuracy score (between 0-1; 0 being completely inaccurate, 1 being completey accurate)\n",
    "print(score)"
   ]
  }
 ],
 "metadata": {
  "kernelspec": {
   "display_name": "Python 3",
   "language": "python",
   "name": "python3"
  },
  "language_info": {
   "codemirror_mode": {
    "name": "ipython",
    "version": 3
   },
   "file_extension": ".py",
   "mimetype": "text/x-python",
   "name": "python",
   "nbconvert_exporter": "python",
   "pygments_lexer": "ipython3",
   "version": "3.8.8"
  }
 },
 "nbformat": 4,
 "nbformat_minor": 5
}
