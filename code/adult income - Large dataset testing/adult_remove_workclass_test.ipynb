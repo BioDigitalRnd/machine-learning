{
 "cells": [
  {
   "cell_type": "code",
   "execution_count": 18,
   "id": "aeae94b3",
   "metadata": {},
   "outputs": [],
   "source": [
    "import pandas as pd\n",
    "import numpy as np\n",
    "from sklearn.experimental import enable_hist_gradient_boosting\n",
    "from sklearn.ensemble import HistGradientBoostingClassifier, RandomForestClassifier, ExtraTreesClassifier\n",
    "from sklearn.naive_bayes import GaussianNB\n",
    "from sklearn.model_selection import train_test_split, cross_val_score\n",
    "from sklearn.metrics import accuracy_score\n",
    "import joblib"
   ]
  },
  {
   "cell_type": "code",
   "execution_count": 7,
   "id": "436d7702",
   "metadata": {},
   "outputs": [],
   "source": [
    "def prepare_data():\n",
    "    adult_data = pd.read_csv('adult_train_workclass.csv')\n",
    "    X = adult_data.drop(columns =[ 'education', 'occupation', 'native.country', 'income'])\n",
    "    y = adult_data['income']\n",
    "    X_train, X_test, y_train, y_test = train_test_split(X, y, test_size=0.2)\n",
    "    return X_train, X_test, y_train, y_test"
   ]
  },
  {
   "cell_type": "code",
   "execution_count": 17,
   "id": "9b78cca5",
   "metadata": {
    "scrolled": true
   },
   "outputs": [
    {
     "name": "stdout",
     "output_type": "stream",
     "text": [
      "0.8660699755899105 0.8660699755899105\n",
      "0.8620016273393002 1.7280716029292107\n",
      "0.8576078112286412 2.585679414157852\n",
      "0.864279902359642 3.4499593165174938\n",
      "0.8668836452400326 4.316842961757526\n",
      "mean = 0.8633685923515053\n",
      "4\n"
     ]
    }
   ],
   "source": [
    "total = 0\n",
    "for i in range(0,5):\n",
    "    X_train, X_test, y_train, y_test = prepare_data()\n",
    "    model = HistGradientBoostingClassifier()\n",
    "    model.fit(X_train, y_train)\n",
    "    predictions = model.predict(X_test)\n",
    "    score = accuracy_score(y_test, predictions)\n",
    "    total = total + score\n",
    "    print(score, total)\n",
    "mean = total/(i+1)\n",
    "print(f\"mean = {mean}\")\n",
    "print(i)"
   ]
  },
  {
   "cell_type": "code",
   "execution_count": 22,
   "id": "51ecef79",
   "metadata": {},
   "outputs": [
    {
     "name": "stdout",
     "output_type": "stream",
     "text": [
      "HistGrad = 86.558177%\n",
      "HistGrad1 = 80.055330%\n",
      "[0.76533767 0.75801465 0.82196908 0.83026851 0.817738  ] [0.76663954 0.74418226 0.80406835 0.81187958 0.80748576]\n"
     ]
    }
   ],
   "source": [
    "model = HistGradientBoostingClassifier()\n",
    "model.fit(X_train, y_train)\n",
    "modelR = RandomForestClassifier()\n",
    "modelR.fit(X_train, y_train)\n",
    "# modelE = ExtraTreesClassifier()\n",
    "# modelE.fit(X_train, y_train)\n",
    "# modelG = GaussianNB()\n",
    "# modelG.fit(X_train, y_train)\n",
    "\n",
    "predictions = model.predict(X_test)\n",
    "predictionsR = modelR.predict(X_test)\n",
    "# predictionsE = modelE.predict(X_test)\n",
    "# predictionsG = modelG.predict(X_test)\n",
    "\n",
    "score = accuracy_score(y_test, predictions)\n",
    "# scoreR = accuracy_score(y_test, predictionsR)\n",
    "# scoreE = accuracy_score(y_test, predictionsE)\n",
    "# scoreG = accuracy_score(y_test, predictionsG)\n",
    "score_1 = cross_val_score(model, X, y, cv=5, scoring='accuracy').mean()\n",
    "cv_scores = cross_val_score(model, X, y, cv=5)\n",
    "# score_2 = cross_val_score(modelR, X, y, cv=5, scoring='accuracy').mean()\n",
    "cv_scoresR = cross_val_score(modelR, X, y, cv=5)\n",
    "\n",
    "print(f\"HistGrad = {score*100:3f}%\")\n",
    "# print(f\"RanFor = {scoreR*100:3f}%\")\n",
    "# print(f\"ExTrees = {scoreE*100:3f}%\")\n",
    "# print(f\"GausNB = {scoreG*100:3f}%\")\n",
    "print(f\"HistGrad1 = {score_1*100:3f}%\")\n",
    "print(cv_scores, cv_scoresR)\n"
   ]
  },
  {
   "cell_type": "code",
   "execution_count": 21,
   "id": "40929e10",
   "metadata": {},
   "outputs": [
    {
     "name": "stdout",
     "output_type": "stream",
     "text": [
      "0.7849308380797396\n"
     ]
    }
   ],
   "source": [
    "print(score_2)"
   ]
  }
 ],
 "metadata": {
  "kernelspec": {
   "display_name": "Python 3",
   "language": "python",
   "name": "python3"
  },
  "language_info": {
   "codemirror_mode": {
    "name": "ipython",
    "version": 3
   },
   "file_extension": ".py",
   "mimetype": "text/x-python",
   "name": "python",
   "nbconvert_exporter": "python",
   "pygments_lexer": "ipython3",
   "version": "3.8.8"
  }
 },
 "nbformat": 4,
 "nbformat_minor": 5
}
