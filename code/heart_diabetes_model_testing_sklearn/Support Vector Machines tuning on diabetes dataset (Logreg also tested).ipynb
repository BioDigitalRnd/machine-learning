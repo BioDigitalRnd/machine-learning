{
 "cells": [
  {
   "cell_type": "code",
   "execution_count": null,
   "id": "b359d746",
   "metadata": {},
   "outputs": [],
   "source": [
    "#Support Vector Machines optimisation testing"
   ]
  },
  {
   "cell_type": "code",
   "execution_count": 1,
   "id": "a6817964",
   "metadata": {},
   "outputs": [],
   "source": [
    "import pandas as pd\n",
    "from sklearn.svm import NuSVC, SVC\n",
    "from sklearn.model_selection import cross_val_score"
   ]
  },
  {
   "cell_type": "code",
   "execution_count": 2,
   "id": "b5120363",
   "metadata": {},
   "outputs": [],
   "source": [
    "df = pd.read_csv('diabetes.csv')\n",
    "X = df.drop(columns=['Outcome'])\n",
    "y = df['Outcome']"
   ]
  },
  {
   "cell_type": "code",
   "execution_count": 30,
   "id": "64a1f1be",
   "metadata": {
    "scrolled": false
   },
   "outputs": [
    {
     "data": {
      "text/plain": [
       "0.7604237867395762"
      ]
     },
     "execution_count": 30,
     "metadata": {},
     "output_type": "execute_result"
    }
   ],
   "source": [
    "nu = NuSVC(probability=True)\n",
    "cross_val_score(nu, X, y, cv=10).mean()"
   ]
  },
  {
   "cell_type": "code",
   "execution_count": 118,
   "id": "d8319fb5",
   "metadata": {
    "scrolled": true
   },
   "outputs": [
    {
     "data": {
      "text/plain": [
       "0.762987012987013"
      ]
     },
     "execution_count": 118,
     "metadata": {},
     "output_type": "execute_result"
    }
   ],
   "source": [
    "svc_p = SVC(kernel='poly', C=10)\n",
    "cross_val_score(svc_p, X, y, cv=10).mean()"
   ]
  },
  {
   "cell_type": "code",
   "execution_count": 97,
   "id": "b723df53",
   "metadata": {
    "scrolled": true
   },
   "outputs": [
    {
     "data": {
      "text/plain": [
       "0.7656185919343814"
      ]
     },
     "execution_count": 97,
     "metadata": {},
     "output_type": "execute_result"
    }
   ],
   "source": [
    "svc_r = SVC(kernel='rbf', C=19)\n",
    "cross_val_score(svc_r, X, y, cv=10).mean()"
   ]
  },
  {
   "cell_type": "code",
   "execution_count": 75,
   "id": "fdbd8666",
   "metadata": {
    "scrolled": true
   },
   "outputs": [
    {
     "data": {
      "text/plain": [
       "0.6510594668489406"
      ]
     },
     "execution_count": 75,
     "metadata": {},
     "output_type": "execute_result"
    }
   ],
   "source": [
    "svc_s = SVC(kernel='sigmoid', C=0.1)\n",
    "cross_val_score(svc_s, X, y, cv=10).mean()"
   ]
  },
  {
   "cell_type": "code",
   "execution_count": 58,
   "id": "65696177",
   "metadata": {
    "scrolled": true
   },
   "outputs": [
    {
     "data": {
      "text/plain": [
       "0.7734791524265209"
      ]
     },
     "execution_count": 58,
     "metadata": {},
     "output_type": "execute_result"
    }
   ],
   "source": [
    "from sklearn.linear_model import LogisticRegression\n",
    "\n",
    "lr = LogisticRegression(solver='lbfgs', penalty='l2', max_iter=180, random_state=0)\n",
    "cross_val_score(lr, X, y, cv=10).mean()"
   ]
  }
 ],
 "metadata": {
  "kernelspec": {
   "display_name": "Python 3",
   "language": "python",
   "name": "python3"
  },
  "language_info": {
   "codemirror_mode": {
    "name": "ipython",
    "version": 3
   },
   "file_extension": ".py",
   "mimetype": "text/x-python",
   "name": "python",
   "nbconvert_exporter": "python",
   "pygments_lexer": "ipython3",
   "version": "3.8.8"
  }
 },
 "nbformat": 4,
 "nbformat_minor": 5
}
