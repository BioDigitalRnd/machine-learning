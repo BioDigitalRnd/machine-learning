{
 "cells": [
  {
   "cell_type": "code",
   "execution_count": 1,
   "id": "75f6ce14",
   "metadata": {},
   "outputs": [],
   "source": [
    "import pandas as pd\n",
    "from sklearn.neural_network import MLPClassifier\n",
    "from sklearn.calibration import CalibratedClassifierCV\n",
    "from sklearn.model_selection import train_test_split\n",
    "from sklearn.metrics import accuracy_score"
   ]
  },
  {
   "cell_type": "code",
   "execution_count": 2,
   "id": "b0aaa9e0",
   "metadata": {
    "scrolled": false
   },
   "outputs": [],
   "source": [
    "# read data and assign independent and dependent variables\n",
    "diabetes_data = pd.read_csv('diabetes.csv')\n",
    "X = diabetes_data.drop(columns=['Outcome'])\n",
    "y = diabetes_data['Outcome']\n",
    "X_train, X_test, y_train, y_test = train_test_split(X, y, test_size=0.2) #split data in two parts\n"
   ]
  },
  {
   "cell_type": "code",
   "execution_count": 3,
   "id": "05b62dc9",
   "metadata": {},
   "outputs": [],
   "source": [
    "# X_train, X_test, y_train, y_test = train_test_split(X, y, test_size=0.3) #split data in two parts\n",
    "\n",
    "model = MLPClassifier(random_state=1, max_iter=300)\n",
    "model.fit(X_train, y_train)\n",
    "# modelCC = CalibratedClassifierCV()\n",
    "# modelCC.fit(X_train, y_train)\n",
    "\n",
    "predictions = model.predict(X_test)\n",
    "# predictionsCC = modelCC.predict(X_test)\n",
    "\n",
    "# score = accuracy_score(y_test, predictions)\n",
    "# scoreCC = accuracy_score(y_test, predictionsCC)\n",
    "\n",
    "# print(f\"MLPClassifier = {score*100:.3f}%\")\n",
    "# print(f\"CCClassifier = {scoreCC*100:.3f}%\")"
   ]
  },
  {
   "cell_type": "code",
   "execution_count": 4,
   "id": "16502767",
   "metadata": {},
   "outputs": [
    {
     "data": {
      "text/plain": [
       "0.7532467532467533"
      ]
     },
     "execution_count": 4,
     "metadata": {},
     "output_type": "execute_result"
    }
   ],
   "source": [
    "model.score(X_test, y_test)"
   ]
  },
  {
   "cell_type": "code",
   "execution_count": 5,
   "id": "804b61ac",
   "metadata": {},
   "outputs": [
    {
     "data": {
      "text/plain": [
       "0.7532467532467533"
      ]
     },
     "execution_count": 5,
     "metadata": {},
     "output_type": "execute_result"
    }
   ],
   "source": [
    "accuracy_score(y_test, predictions)"
   ]
  }
 ],
 "metadata": {
  "kernelspec": {
   "display_name": "Python 3",
   "language": "python",
   "name": "python3"
  },
  "language_info": {
   "codemirror_mode": {
    "name": "ipython",
    "version": 3
   },
   "file_extension": ".py",
   "mimetype": "text/x-python",
   "name": "python",
   "nbconvert_exporter": "python",
   "pygments_lexer": "ipython3",
   "version": "3.8.8"
  }
 },
 "nbformat": 4,
 "nbformat_minor": 5
}
