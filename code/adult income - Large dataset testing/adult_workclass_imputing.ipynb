{
 "cells": [
  {
   "cell_type": "code",
   "execution_count": 20,
   "id": "fadb586a",
   "metadata": {},
   "outputs": [],
   "source": [
    "import pandas as pd\n",
    "from sklearn.experimental import enable_hist_gradient_boosting\n",
    "from sklearn.ensemble import HistGradientBoostingClassifier, RandomForestClassifier, ExtraTreesClassifier\n",
    "from sklearn.tree import DecisionTreeClassifier\n",
    "from sklearn.model_selection import train_test_split\n",
    "from sklearn.metrics import accuracy_score\n",
    "import joblib"
   ]
  },
  {
   "cell_type": "code",
   "execution_count": 27,
   "id": "287aa567",
   "metadata": {},
   "outputs": [],
   "source": [
    "adult_t_w = pd.read_csv('adult_train_workclass.csv')\n",
    "X = adult_t_w.drop(columns =['workclass', 'education', 'occupation', 'native.country', 'income'])\n",
    "y = adult_t_w['workclass']\n",
    "X_train, X_test, y_train, y_test = train_test_split(X, y, test_size=0.1)\n"
   ]
  },
  {
   "cell_type": "code",
   "execution_count": 28,
   "id": "4f18b9e4",
   "metadata": {},
   "outputs": [
    {
     "name": "stdout",
     "output_type": "stream",
     "text": [
      "HistGrad = 73.804100%\n",
      "RanFor = 71.070615%\n",
      "ExTrees = 68.434754%\n"
     ]
    }
   ],
   "source": [
    "model = HistGradientBoostingClassifier()\n",
    "model.fit(X_train, y_train)\n",
    "modelR = RandomForestClassifier()\n",
    "modelR.fit(X_train, y_train)\n",
    "modelE = ExtraTreesClassifier()\n",
    "modelE.fit(X_train, y_train)\n",
    "# modelD = DecisionTreeClassifier()\n",
    "# modelD.fit(X_train, y_train)\n",
    "\n",
    "predictions = model.predict(X_test)\n",
    "predictionsR = modelR.predict(X_test)\n",
    "predictionsE = modelE.predict(X_test)\n",
    "# predictionsD = modelD.predict(X_test)\n",
    "\n",
    "score = accuracy_score(y_test, predictions)\n",
    "scoreR = accuracy_score(y_test, predictionsR)\n",
    "scoreE = accuracy_score(y_test, predictionsE)\n",
    "# scoreD = accuracy_score(y_test, predictionsD)\n",
    "\n",
    "print(f\"HistGrad = {score*100:3f}%\")\n",
    "print(f\"RanFor = {scoreR*100:3f}%\")\n",
    "print(f\"ExTrees = {scoreE*100:3f}%\")"
   ]
  },
  {
   "cell_type": "code",
   "execution_count": 30,
   "id": "4a7746bd",
   "metadata": {
    "scrolled": true
   },
   "outputs": [
    {
     "name": "stdout",
     "output_type": "stream",
     "text": [
      "[4 4 4 ... 4 4 4]\n"
     ]
    }
   ],
   "source": [
    "print(predictions)"
   ]
  },
  {
   "cell_type": "code",
   "execution_count": 32,
   "id": "053c8996",
   "metadata": {
    "scrolled": true
   },
   "outputs": [
    {
     "data": {
      "text/html": [
       "<div>\n",
       "<style scoped>\n",
       "    .dataframe tbody tr th:only-of-type {\n",
       "        vertical-align: middle;\n",
       "    }\n",
       "\n",
       "    .dataframe tbody tr th {\n",
       "        vertical-align: top;\n",
       "    }\n",
       "\n",
       "    .dataframe thead th {\n",
       "        text-align: right;\n",
       "    }\n",
       "</style>\n",
       "<table border=\"1\" class=\"dataframe\">\n",
       "  <thead>\n",
       "    <tr style=\"text-align: right;\">\n",
       "      <th></th>\n",
       "      <th>workclass</th>\n",
       "    </tr>\n",
       "  </thead>\n",
       "  <tbody>\n",
       "    <tr>\n",
       "      <th>0</th>\n",
       "      <td>4</td>\n",
       "    </tr>\n",
       "    <tr>\n",
       "      <th>1</th>\n",
       "      <td>4</td>\n",
       "    </tr>\n",
       "    <tr>\n",
       "      <th>2</th>\n",
       "      <td>4</td>\n",
       "    </tr>\n",
       "    <tr>\n",
       "      <th>3</th>\n",
       "      <td>4</td>\n",
       "    </tr>\n",
       "    <tr>\n",
       "      <th>4</th>\n",
       "      <td>4</td>\n",
       "    </tr>\n",
       "  </tbody>\n",
       "</table>\n",
       "</div>"
      ],
      "text/plain": [
       "   workclass\n",
       "0          4\n",
       "1          4\n",
       "2          4\n",
       "3          4\n",
       "4          4"
      ]
     },
     "execution_count": 32,
     "metadata": {},
     "output_type": "execute_result"
    }
   ],
   "source": [
    "pred=pd.DataFrame(predictions,columns=['workclass'])\n",
    "pred.head()"
   ]
  },
  {
   "cell_type": "code",
   "execution_count": 43,
   "id": "1b76439e",
   "metadata": {
    "scrolled": true
   },
   "outputs": [],
   "source": [
    "newdf = pd.concat([X, pred], axis=1)\n",
    "pred.to_csv('adult_workclass_H2_imp.csv')"
   ]
  }
 ],
 "metadata": {
  "kernelspec": {
   "display_name": "Python 3",
   "language": "python",
   "name": "python3"
  },
  "language_info": {
   "codemirror_mode": {
    "name": "ipython",
    "version": 3
   },
   "file_extension": ".py",
   "mimetype": "text/x-python",
   "name": "python",
   "nbconvert_exporter": "python",
   "pygments_lexer": "ipython3",
   "version": "3.8.8"
  }
 },
 "nbformat": 4,
 "nbformat_minor": 5
}
