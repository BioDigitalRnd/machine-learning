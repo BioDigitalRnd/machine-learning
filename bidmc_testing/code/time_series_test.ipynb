{
 "cells": [
  {
   "cell_type": "code",
   "execution_count": 1,
   "id": "198ab8da",
   "metadata": {
    "scrolled": true
   },
   "outputs": [],
   "source": [
    "from tslearn.datasets import UCR_UEA_datasets"
   ]
  },
  {
   "cell_type": "code",
   "execution_count": 2,
   "id": "b5353d8f",
   "metadata": {
    "scrolled": true
   },
   "outputs": [],
   "source": [
    "df = UCR_UEA_datasets().load_dataset(\"TwoPatterns\")"
   ]
  },
  {
   "cell_type": "code",
   "execution_count": 5,
   "id": "560216c8",
   "metadata": {},
   "outputs": [
    {
     "data": {
      "text/plain": [
       "(array([[[ 0.2303793 ],\n",
       "         [ 0.49096649],\n",
       "         [ 0.35883306],\n",
       "         ...,\n",
       "         [ 0.21074476],\n",
       "         [-0.25542933],\n",
       "         [-0.27894241]],\n",
       " \n",
       "        [[ 0.00076522],\n",
       "         [-0.34267997],\n",
       "         [ 0.18872921],\n",
       "         ...,\n",
       "         [-0.64269981],\n",
       "         [-0.12149454],\n",
       "         [ 0.52589527]],\n",
       " \n",
       "        [[ 0.17044215],\n",
       "         [-0.01886377],\n",
       "         [ 0.4024516 ],\n",
       "         ...,\n",
       "         [-0.22051709],\n",
       "         [ 0.25796549],\n",
       "         [ 0.66266508]],\n",
       " \n",
       "        ...,\n",
       " \n",
       "        [[-0.35998444],\n",
       "         [ 0.22577919],\n",
       "         [ 0.01796405],\n",
       "         ...,\n",
       "         [ 0.37429672],\n",
       "         [ 0.4160218 ],\n",
       "         [-0.27336748]],\n",
       " \n",
       "        [[ 0.24685978],\n",
       "         [-0.33697087],\n",
       "         [-0.3712872 ],\n",
       "         ...,\n",
       "         [ 0.0684051 ],\n",
       "         [ 0.09142212],\n",
       "         [ 0.42766655]],\n",
       " \n",
       "        [[-0.31033582],\n",
       "         [-0.24524647],\n",
       "         [-0.30000574],\n",
       "         ...,\n",
       "         [ 0.3907156 ],\n",
       "         [-0.15506771],\n",
       "         [ 0.6423072 ]]]),\n",
       " array([2, 3, 4, 4, 2, 4, 1, 1, 4, 2, 3, 2, 3, 3, 3, 3, 4, 2, 2, 4, 3, 2,\n",
       "        3, 4, 3, 1, 4, 1, 3, 2, 4, 1, 4, 2, 3, 4, 2, 4, 4, 2, 1, 4, 3, 2,\n",
       "        2, 1, 4, 4, 4, 3, 2, 4, 2, 4, 3, 4, 2, 4, 1, 2, 2, 2, 4, 3, 3, 3,\n",
       "        1, 2, 1, 3, 4, 2, 4, 4, 4, 2, 4, 1, 3, 3, 1, 3, 1, 2, 2, 3, 1, 4,\n",
       "        1, 3, 1, 4, 3, 4, 1, 4, 2, 1, 4, 4, 3, 1, 1, 1, 3, 3, 4, 4, 1, 2,\n",
       "        3, 2, 4, 3, 3, 4, 1, 3, 1, 1, 2, 1, 4, 1, 1, 4, 3, 3, 3, 4, 1, 1,\n",
       "        3, 3, 3, 3, 3, 4, 2, 2, 3, 3, 1, 4, 4, 1, 1, 3, 3, 3, 4, 1, 1, 4,\n",
       "        1, 3, 4, 1, 1, 2, 1, 2, 3, 2, 2, 3, 3, 2, 2, 4, 1, 3, 4, 2, 1, 1,\n",
       "        3, 1, 2, 2, 4, 2, 4, 2, 3, 2, 3, 3, 1, 2, 4, 3, 2, 2, 4, 1, 1, 3,\n",
       "        2, 2, 1, 4, 2, 2, 1, 3, 4, 3, 3, 1, 4, 1, 3, 2, 2, 1, 2, 2, 1, 4,\n",
       "        3, 2, 4, 4, 4, 4, 3, 3, 3, 2, 1, 3, 4, 4, 3, 1, 2, 2, 4, 1, 4, 4,\n",
       "        4, 2, 1, 2, 1, 1, 2, 2, 2, 2, 4, 2, 4, 3, 4, 2, 3, 4, 2, 1, 3, 1,\n",
       "        1, 1, 1, 2, 4, 4, 2, 1, 3, 3, 1, 2, 2, 2, 2, 3, 1, 4, 2, 2, 4, 4,\n",
       "        1, 2, 1, 3, 3, 1, 3, 1, 2, 2, 2, 3, 2, 2, 2, 1, 2, 3, 3, 4, 4, 4,\n",
       "        1, 4, 2, 3, 3, 3, 1, 2, 4, 4, 1, 1, 4, 1, 2, 1, 1, 3, 2, 3, 1, 1,\n",
       "        1, 3, 2, 2, 2, 1, 2, 3, 3, 4, 4, 2, 3, 3, 4, 4, 1, 2, 1, 1, 1, 4,\n",
       "        4, 3, 1, 1, 1, 1, 3, 4, 2, 1, 3, 1, 2, 1, 4, 1, 2, 4, 4, 4, 2, 3,\n",
       "        1, 2, 3, 4, 2, 2, 3, 1, 4, 2, 3, 2, 2, 2, 1, 4, 3, 1, 4, 1, 2, 2,\n",
       "        1, 4, 4, 1, 3, 2, 3, 4, 2, 2, 2, 3, 3, 3, 1, 4, 3, 1, 4, 2, 4, 4,\n",
       "        2, 4, 1, 4, 4, 1, 4, 4, 2, 3, 1, 2, 3, 2, 1, 2, 2, 1, 3, 1, 2, 3,\n",
       "        4, 2, 1, 2, 3, 2, 4, 3, 3, 3, 2, 4, 1, 1, 2, 3, 3, 1, 2, 1, 1, 4,\n",
       "        2, 4, 4, 2, 1, 2, 2, 3, 4, 2, 3, 4, 4, 2, 1, 3, 4, 1, 4, 1, 4, 1,\n",
       "        2, 2, 2, 3, 1, 3, 4, 3, 2, 3, 3, 3, 1, 1, 4, 2, 2, 3, 1, 2, 4, 1,\n",
       "        4, 2, 3, 1, 1, 3, 4, 4, 4, 3, 3, 2, 2, 1, 4, 1, 2, 4, 4, 1, 3, 2,\n",
       "        1, 2, 4, 1, 3, 1, 3, 1, 3, 1, 3, 2, 1, 2, 3, 2, 3, 4, 4, 4, 3, 3,\n",
       "        1, 1, 2, 1, 2, 4, 3, 3, 4, 4, 1, 1, 1, 1, 2, 1, 3, 2, 3, 4, 3, 1,\n",
       "        2, 3, 2, 1, 4, 2, 2, 3, 4, 1, 3, 4, 4, 2, 1, 3, 3, 3, 2, 4, 3, 2,\n",
       "        1, 4, 1, 3, 2, 4, 3, 4, 1, 4, 3, 1, 4, 1, 1, 2, 3, 4, 4, 3, 2, 4,\n",
       "        4, 3, 2, 1, 1, 4, 1, 3, 3, 1, 4, 1, 4, 2, 4, 2, 1, 3, 2, 2, 2, 1,\n",
       "        3, 1, 4, 4, 2, 2, 1, 1, 1, 1, 2, 1, 2, 4, 3, 1, 4, 1, 3, 3, 2, 4,\n",
       "        3, 1, 1, 3, 1, 4, 1, 3, 1, 1, 2, 2, 3, 1, 3, 1, 1, 3, 3, 2, 4, 3,\n",
       "        1, 3, 3, 3, 1, 2, 1, 3, 3, 1, 2, 1, 3, 4, 2, 2, 4, 1, 1, 1, 4, 3,\n",
       "        4, 2, 3, 4, 4, 4, 1, 2, 1, 1, 1, 1, 1, 1, 4, 1, 4, 4, 1, 4, 4, 2,\n",
       "        3, 1, 4, 1, 3, 2, 1, 2, 3, 2, 3, 1, 3, 3, 2, 4, 3, 3, 1, 2, 1, 3,\n",
       "        1, 1, 4, 2, 1, 3, 3, 3, 4, 1, 1, 1, 4, 4, 2, 4, 2, 3, 4, 1, 4, 1,\n",
       "        3, 2, 3, 1, 3, 1, 2, 1, 4, 4, 3, 1, 2, 4, 3, 3, 3, 3, 1, 1, 2, 3,\n",
       "        4, 4, 3, 2, 2, 1, 3, 1, 2, 2, 4, 3, 3, 1, 3, 2, 4, 3, 2, 1, 3, 4,\n",
       "        4, 3, 3, 1, 3, 2, 1, 1, 2, 3, 1, 1, 4, 4, 3, 3, 4, 1, 2, 1, 4, 1,\n",
       "        2, 1, 4, 2, 4, 2, 3, 1, 2, 4, 3, 3, 4, 4, 4, 3, 1, 1, 1, 1, 2, 3,\n",
       "        3, 2, 3, 4, 3, 4, 2, 1, 4, 2, 3, 3, 1, 4, 1, 4, 3, 4, 4, 3, 1, 3,\n",
       "        3, 2, 4, 3, 1, 2, 2, 4, 1, 1, 4, 3, 3, 4, 3, 3, 1, 3, 4, 3, 4, 2,\n",
       "        3, 1, 3, 4, 4, 2, 2, 1, 1, 3, 4, 3, 3, 4, 1, 2, 3, 4, 2, 4, 1, 2,\n",
       "        2, 3, 4, 1, 1, 1, 3, 1, 3, 3, 1, 4, 1, 4, 1, 2, 4, 3, 1, 2, 1, 2,\n",
       "        2, 4, 2, 2, 2, 3, 2, 2, 4, 2, 4, 4, 2, 4, 1, 1, 4, 1, 4, 1, 4, 1,\n",
       "        1, 1, 1, 2, 3, 1, 1, 1, 3, 1, 1, 4, 2, 4, 1, 3, 4, 3, 4, 2, 2, 2,\n",
       "        3, 1, 4, 2, 3, 4, 2, 1, 4, 3]),\n",
       " array([[[ 0.09227572],\n",
       "         [-0.22399031],\n",
       "         [ 0.1475453 ],\n",
       "         ...,\n",
       "         [-0.54410022],\n",
       "         [-0.18437622],\n",
       "         [ 0.10849004]],\n",
       " \n",
       "        [[-0.28345045],\n",
       "         [-0.32602018],\n",
       "         [ 0.33048527],\n",
       "         ...,\n",
       "         [ 0.93559016],\n",
       "         [ 0.09218954],\n",
       "         [-0.40152198]],\n",
       " \n",
       "        [[-0.43079535],\n",
       "         [ 0.15533389],\n",
       "         [-0.72145331],\n",
       "         ...,\n",
       "         [-0.09698874],\n",
       "         [ 0.66843084],\n",
       "         [ 0.04915188]],\n",
       " \n",
       "        ...,\n",
       " \n",
       "        [[ 0.03484025],\n",
       "         [-0.10617268],\n",
       "         [-0.3258573 ],\n",
       "         ...,\n",
       "         [-0.33064053],\n",
       "         [-0.04787792],\n",
       "         [ 0.07988716]],\n",
       " \n",
       "        [[-0.28608286],\n",
       "         [ 0.0861703 ],\n",
       "         [-0.11238703],\n",
       "         ...,\n",
       "         [-1.6771845 ],\n",
       "         [ 0.33015845],\n",
       "         [ 0.05831266]],\n",
       " \n",
       "        [[ 0.34808788],\n",
       "         [-0.24837942],\n",
       "         [ 0.3460655 ],\n",
       "         ...,\n",
       "         [-0.25740447],\n",
       "         [ 0.30992495],\n",
       "         [-0.02102954]]]),\n",
       " array([2, 3, 1, ..., 2, 2, 1]))"
      ]
     },
     "execution_count": 5,
     "metadata": {},
     "output_type": "execute_result"
    }
   ],
   "source": [
    "df"
   ]
  },
  {
   "cell_type": "code",
   "execution_count": 7,
   "id": "9a9bda74",
   "metadata": {
    "scrolled": true
   },
   "outputs": [
    {
     "data": {
      "text/html": [
       "<div>\n",
       "<style scoped>\n",
       "    .dataframe tbody tr th:only-of-type {\n",
       "        vertical-align: middle;\n",
       "    }\n",
       "\n",
       "    .dataframe tbody tr th {\n",
       "        vertical-align: top;\n",
       "    }\n",
       "\n",
       "    .dataframe thead th {\n",
       "        text-align: right;\n",
       "    }\n",
       "</style>\n",
       "<table border=\"1\" class=\"dataframe\">\n",
       "  <thead>\n",
       "    <tr style=\"text-align: right;\">\n",
       "      <th></th>\n",
       "      <th>col1</th>\n",
       "    </tr>\n",
       "  </thead>\n",
       "  <tbody>\n",
       "    <tr>\n",
       "      <th>0</th>\n",
       "      <td>[[[0.2303793], [0.49096649], [0.35883306], [-0...</td>\n",
       "    </tr>\n",
       "    <tr>\n",
       "      <th>1</th>\n",
       "      <td>[2, 3, 4, 4, 2, 4, 1, 1, 4, 2, 3, 2, 3, 3, 3, ...</td>\n",
       "    </tr>\n",
       "    <tr>\n",
       "      <th>2</th>\n",
       "      <td>[[[0.092275724], [-0.22399031], [0.1475453], [...</td>\n",
       "    </tr>\n",
       "    <tr>\n",
       "      <th>3</th>\n",
       "      <td>[2, 3, 1, 3, 2, 3, 1, 1, 4, 3, 2, 4, 1, 1, 4, ...</td>\n",
       "    </tr>\n",
       "  </tbody>\n",
       "</table>\n",
       "</div>"
      ],
      "text/plain": [
       "                                                col1\n",
       "0  [[[0.2303793], [0.49096649], [0.35883306], [-0...\n",
       "1  [2, 3, 4, 4, 2, 4, 1, 1, 4, 2, 3, 2, 3, 3, 3, ...\n",
       "2  [[[0.092275724], [-0.22399031], [0.1475453], [...\n",
       "3  [2, 3, 1, 3, 2, 3, 1, 1, 4, 3, 2, 4, 1, 1, 4, ..."
      ]
     },
     "execution_count": 7,
     "metadata": {},
     "output_type": "execute_result"
    }
   ],
   "source": [
    "import pandas as pd\n",
    "pd.DataFrame(df, columns=['col1'])"
   ]
  },
  {
   "cell_type": "code",
   "execution_count": 12,
   "id": "05747530",
   "metadata": {
    "scrolled": true
   },
   "outputs": [
    {
     "ename": "AttributeError",
     "evalue": "'tuple' object has no attribute 'shape'",
     "output_type": "error",
     "traceback": [
      "\u001b[1;31m---------------------------------------------------------------------------\u001b[0m",
      "\u001b[1;31mAttributeError\u001b[0m                            Traceback (most recent call last)",
      "\u001b[1;32m<ipython-input-12-c428f581d259>\u001b[0m in \u001b[0;36m<module>\u001b[1;34m\u001b[0m\n\u001b[0;32m      1\u001b[0m \u001b[1;32mimport\u001b[0m \u001b[0mnumpy\u001b[0m\u001b[1;33m\u001b[0m\u001b[1;33m\u001b[0m\u001b[0m\n\u001b[1;32m----> 2\u001b[1;33m \u001b[0mdf\u001b[0m\u001b[1;33m.\u001b[0m\u001b[0mshape\u001b[0m\u001b[1;33m\u001b[0m\u001b[1;33m\u001b[0m\u001b[0m\n\u001b[0m",
      "\u001b[1;31mAttributeError\u001b[0m: 'tuple' object has no attribute 'shape'"
     ]
    }
   ],
   "source": [
    "import numpy\n"
   ]
  },
  {
   "cell_type": "code",
   "execution_count": 6,
   "id": "d8833cfb",
   "metadata": {},
   "outputs": [
    {
     "name": "stdout",
     "output_type": "stream",
     "text": [
      "(2, 4, 1)\n"
     ]
    }
   ],
   "source": [
    "from tslearn.utils import to_time_series_dataset\n",
    "time_series_1 = [1, 3, 4, 2]\n",
    "time_series_2 = [1, 2, 4, 2]\n",
    "fds = to_time_series_dataset([time_series_1, time_series_2])\n",
    "print(fds.shape)"
   ]
  },
  {
   "cell_type": "code",
   "execution_count": 7,
   "id": "94b943a2",
   "metadata": {},
   "outputs": [
    {
     "name": "stdout",
     "output_type": "stream",
     "text": [
      "(3, 5, 1)\n"
     ]
    }
   ],
   "source": [
    "time_series_3 = [1, 2, 4, 2, 2]\n",
    "fds = to_time_series_dataset([time_series_1,\n",
    "                              time_series_2,\n",
    "                              time_series_3])\n",
    "print(fds.shape)"
   ]
  },
  {
   "cell_type": "code",
   "execution_count": 15,
   "id": "68c040fb",
   "metadata": {},
   "outputs": [
    {
     "data": {
      "text/plain": [
       "array([[[ 1.],\n",
       "        [ 3.],\n",
       "        [ 4.],\n",
       "        [ 2.],\n",
       "        [nan]],\n",
       "\n",
       "       [[ 1.],\n",
       "        [ 2.],\n",
       "        [ 4.],\n",
       "        [ 2.],\n",
       "        [nan]],\n",
       "\n",
       "       [[ 1.],\n",
       "        [ 2.],\n",
       "        [ 4.],\n",
       "        [ 2.],\n",
       "        [ 2.]]])"
      ]
     },
     "execution_count": 15,
     "metadata": {},
     "output_type": "execute_result"
    }
   ],
   "source": [
    "fds"
   ]
  },
  {
   "cell_type": "code",
   "execution_count": 11,
   "id": "5550a8c6",
   "metadata": {},
   "outputs": [],
   "source": [
    "X_train, y_train, X_test, y_test = UCR_UEA_datasets().load_dataset(\"TwoPatterns\")"
   ]
  },
  {
   "cell_type": "code",
   "execution_count": 35,
   "id": "412686fa",
   "metadata": {},
   "outputs": [
    {
     "data": {
      "text/plain": [
       "array([[[ 0.2303793 ],\n",
       "        [ 0.49096649],\n",
       "        [ 0.35883306],\n",
       "        ...,\n",
       "        [ 0.21074476],\n",
       "        [-0.25542933],\n",
       "        [-0.27894241]],\n",
       "\n",
       "       [[ 0.00076522],\n",
       "        [-0.34267997],\n",
       "        [ 0.18872921],\n",
       "        ...,\n",
       "        [-0.64269981],\n",
       "        [-0.12149454],\n",
       "        [ 0.52589527]],\n",
       "\n",
       "       [[ 0.17044215],\n",
       "        [-0.01886377],\n",
       "        [ 0.4024516 ],\n",
       "        ...,\n",
       "        [-0.22051709],\n",
       "        [ 0.25796549],\n",
       "        [ 0.66266508]],\n",
       "\n",
       "       ...,\n",
       "\n",
       "       [[-0.35998444],\n",
       "        [ 0.22577919],\n",
       "        [ 0.01796405],\n",
       "        ...,\n",
       "        [ 0.37429672],\n",
       "        [ 0.4160218 ],\n",
       "        [-0.27336748]],\n",
       "\n",
       "       [[ 0.24685978],\n",
       "        [-0.33697087],\n",
       "        [-0.3712872 ],\n",
       "        ...,\n",
       "        [ 0.0684051 ],\n",
       "        [ 0.09142212],\n",
       "        [ 0.42766655]],\n",
       "\n",
       "       [[-0.31033582],\n",
       "        [-0.24524647],\n",
       "        [-0.30000574],\n",
       "        ...,\n",
       "        [ 0.3907156 ],\n",
       "        [-0.15506771],\n",
       "        [ 0.6423072 ]]])"
      ]
     },
     "execution_count": 35,
     "metadata": {},
     "output_type": "execute_result"
    }
   ],
   "source": [
    "X_train"
   ]
  },
  {
   "cell_type": "code",
   "execution_count": 34,
   "id": "1da87bdb",
   "metadata": {
    "scrolled": false
   },
   "outputs": [
    {
     "data": {
      "text/plain": [
       "(1000, 128, 1)"
      ]
     },
     "execution_count": 34,
     "metadata": {},
     "output_type": "execute_result"
    }
   ],
   "source": [
    "X_train.shape"
   ]
  },
  {
   "cell_type": "code",
   "execution_count": 12,
   "id": "b753b821",
   "metadata": {
    "scrolled": false
   },
   "outputs": [
    {
     "data": {
      "text/plain": [
       "TimeSeriesKMeans(metric='dtw')"
      ]
     },
     "execution_count": 12,
     "metadata": {},
     "output_type": "execute_result"
    }
   ],
   "source": [
    "from tslearn.clustering import TimeSeriesKMeans\n",
    "km = TimeSeriesKMeans(n_clusters=3, metric=\"dtw\")\n",
    "km.fit(X_train)"
   ]
  },
  {
   "cell_type": "code",
   "execution_count": 20,
   "id": "aa0ea17b",
   "metadata": {},
   "outputs": [],
   "source": [
    "from sklearn.metrics import accuracy_score\n",
    "y_pred = km.predict(X_test)\n",
    "\n",
    "score = accuracy_score(y_test, y_pred)"
   ]
  },
  {
   "cell_type": "code",
   "execution_count": 19,
   "id": "8b023b0b",
   "metadata": {},
   "outputs": [
    {
     "data": {
      "text/plain": [
       "0.01025"
      ]
     },
     "execution_count": 19,
     "metadata": {},
     "output_type": "execute_result"
    }
   ],
   "source": [
    "score"
   ]
  },
  {
   "cell_type": "code",
   "execution_count": 22,
   "id": "c3687742",
   "metadata": {},
   "outputs": [],
   "source": [
    "import pandas as pd\n",
    "pt1 = pd.read_csv('bidmc_01_Numerics.csv')\n",
    "fpds = to_time_series_dataset([pt1])"
   ]
  },
  {
   "cell_type": "code",
   "execution_count": 30,
   "id": "819abf17",
   "metadata": {
    "scrolled": true
   },
   "outputs": [
    {
     "data": {
      "text/plain": [
       "(1, 481, 5)"
      ]
     },
     "execution_count": 30,
     "metadata": {},
     "output_type": "execute_result"
    }
   ],
   "source": [
    "fpds.shape"
   ]
  },
  {
   "cell_type": "code",
   "execution_count": 31,
   "id": "0efa1986",
   "metadata": {},
   "outputs": [],
   "source": [
    "pt2 = pd.read_csv('bidmc_02_Numerics.csv')\n",
    "fptd = to_time_series_dataset([pt1, pt2])"
   ]
  },
  {
   "cell_type": "code",
   "execution_count": 33,
   "id": "a7d2373c",
   "metadata": {},
   "outputs": [
    {
     "data": {
      "text/plain": [
       "(2, 481, 5)"
      ]
     },
     "execution_count": 33,
     "metadata": {},
     "output_type": "execute_result"
    }
   ],
   "source": [
    "fptd.shape"
   ]
  },
  {
   "cell_type": "code",
   "execution_count": 36,
   "id": "1682df00",
   "metadata": {},
   "outputs": [
    {
     "data": {
      "text/plain": [
       "array([[[  0.,  94.,  93.,  25.,  97.],\n",
       "        [  1.,  94.,  93.,  25.,  97.],\n",
       "        [  2.,  94.,  93.,  25.,  97.],\n",
       "        ...,\n",
       "        [478.,  90.,  90.,  21.,  96.],\n",
       "        [479.,  90.,  90.,  20.,  96.],\n",
       "        [480.,  90.,  90.,  20.,  96.]],\n",
       "\n",
       "       [[  0.,  93.,  92.,  16., 100.],\n",
       "        [  1.,  93.,  93.,  16., 100.],\n",
       "        [  2.,  93.,  93.,  16., 100.],\n",
       "        ...,\n",
       "        [478.,  89.,  91.,  15., 100.],\n",
       "        [479.,  89.,  91.,  15., 100.],\n",
       "        [480.,  89.,  90.,  15., 100.]]])"
      ]
     },
     "execution_count": 36,
     "metadata": {},
     "output_type": "execute_result"
    }
   ],
   "source": [
    "fptd"
   ]
  },
  {
   "cell_type": "code",
   "execution_count": 44,
   "id": "cb1f1fc5",
   "metadata": {},
   "outputs": [
    {
     "data": {
      "image/png": "[encoded data removed]",
      "text/plain": [
       "<Figure size 432x288 with 1 Axes>"
      ]
     },
     "metadata": {
      "needs_background": "light"
     },
     "output_type": "display_data"
    }
   ],
   "source": [
    "from matplotlib import pyplot\n",
    "p1 = pt1.drop(columns=['Time [s]', ' RESP'])\n",
    "p1.plot()\n",
    "pyplot.show()"
   ]
  }
 ],
 "metadata": {
  "kernelspec": {
   "display_name": "Python 3",
   "language": "python",
   "name": "python3"
  },
  "language_info": {
   "codemirror_mode": {
    "name": "ipython",
    "version": 3
   },
   "file_extension": ".py",
   "mimetype": "text/x-python",
   "name": "python",
   "nbconvert_exporter": "python",
   "pygments_lexer": "ipython3",
   "version": "3.8.8"
  }
 },
 "nbformat": 4,
 "nbformat_minor": 5
}
