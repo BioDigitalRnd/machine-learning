{
 "cells": [
  {
   "cell_type": "code",
   "execution_count": 18,
   "id": "875bcbb5",
   "metadata": {},
   "outputs": [],
   "source": [
    "import pandas as pd\n",
    "import numpy as np\n",
    "from sklearn.preprocessing import OneHotEncoder\n",
    "from sklearn.compose import make_column_transformer\n",
    "from sklearn.experimental import enable_hist_gradient_boosting\n",
    "from sklearn.ensemble import HistGradientBoostingClassifier, RandomForestClassifier, ExtraTreesClassifier, GradientBoostingClassifier\n",
    "from sklearn.naive_bayes import GaussianNB\n",
    "from sklearn.pipeline import make_pipeline\n",
    "from sklearn.model_selection import train_test_split, cross_val_score\n",
    "from sklearn.metrics import accuracy_score\n",
    "import joblib"
   ]
  },
  {
   "cell_type": "code",
   "execution_count": 2,
   "id": "651b6857",
   "metadata": {},
   "outputs": [],
   "source": [
    "df = pd.read_csv('adult_initial_wNaN.csv')\n",
    "X = df.drop(columns=['education', 'native.country', 'income'])\n",
    "y = df['income']"
   ]
  },
  {
   "cell_type": "code",
   "execution_count": 24,
   "id": "0f5865ca",
   "metadata": {},
   "outputs": [],
   "source": [
    "# column_trans = make_column_transformer(\n",
    "#                 (OneHotEncoder(), ['occupation', 'relationship', 'race']),\n",
    "#                 remainder='passthrough')\n",
    "column_trans = make_column_transformer(\n",
    "                (OneHotEncoder(), ['occupation', 'relationship', 'race', 'workclass', 'marital.status']),\n",
    "                remainder='passthrough')\n",
    "# model = HistGradientBoostingClassifier()\n",
    "# modelR = RandomForestClassifier()\n",
    "# modelG = GradientBoostingClassifier()\n",
    "# modelE = ExtraTreesClassifier()\n",
    "# OneHotEncoding the 'relationship', 'race' and 'occupation' features while\n",
    "# dropping the others (marital.status, workclass) appears to produce the \n",
    "# highest accuracy score for HistGradientBoostingClassifier"
   ]
  },
  {
   "cell_type": "code",
   "execution_count": 25,
   "id": "d2d8ef21",
   "metadata": {
    "scrolled": true
   },
   "outputs": [],
   "source": [
    "# pipe = make_pipeline(column_trans, model)\n",
    "# Rpipe = make_pipeline(column_trans, modelR)\n",
    "# Gpipe = make_pipeline(column_trans, modelG)\n",
    "# Epipe = make_pipeline(column_trans, modelE)"
   ]
  },
  {
   "cell_type": "code",
   "execution_count": 27,
   "id": "3de0ffe1",
   "metadata": {},
   "outputs": [],
   "source": [
    "# cv_scores = cross_val_score(pipe, X, y, cv=5, scoring='accuracy').mean()\n",
    "# cv_scoresR = cross_val_score(Rpipe, X, y, cv=5, scoring='accuracy').mean()\n",
    "# scoreG = cross_val_score(Gpipe, X, y, cv=5, scoring='accuracy').mean()\n",
    "# scoreE = cross_val_score(Epipe, X, y, cv=5, scoring='accuracy').mean()\n"
   ]
  },
  {
   "cell_type": "code",
   "execution_count": 122,
   "id": "6f45e9f8",
   "metadata": {},
   "outputs": [
    {
     "name": "stdout",
     "output_type": "stream",
     "text": [
      "0.8040254310037847\n"
     ]
    }
   ],
   "source": [
    "print(cv_scores) #HistGradient score"
   ]
  },
  {
   "cell_type": "code",
   "execution_count": 127,
   "id": "dc657e7f",
   "metadata": {
    "scrolled": true
   },
   "outputs": [
    {
     "name": "stdout",
     "output_type": "stream",
     "text": [
      "0.8012904996032069\n"
     ]
    }
   ],
   "source": [
    "print(cv_scoresR) #RandomForest score"
   ]
  },
  {
   "cell_type": "code",
   "execution_count": 6,
   "id": "1963c605",
   "metadata": {},
   "outputs": [
    {
     "name": "stdout",
     "output_type": "stream",
     "text": [
      "0.8046437298212059\n"
     ]
    }
   ],
   "source": [
    "print(scoreG) #GradientBoosting score"
   ]
  },
  {
   "cell_type": "code",
   "execution_count": 10,
   "id": "aea17d23",
   "metadata": {},
   "outputs": [
    {
     "name": "stdout",
     "output_type": "stream",
     "text": [
      "0.7998903413946769\n"
     ]
    }
   ],
   "source": [
    "print(scoreE) #ExtraTrees score"
   ]
  }
 ],
 "metadata": {
  "kernelspec": {
   "display_name": "Python 3",
   "language": "python",
   "name": "python3"
  },
  "language_info": {
   "codemirror_mode": {
    "name": "ipython",
    "version": 3
   },
   "file_extension": ".py",
   "mimetype": "text/x-python",
   "name": "python",
   "nbconvert_exporter": "python",
   "pygments_lexer": "ipython3",
   "version": "3.8.8"
  }
 },
 "nbformat": 4,
 "nbformat_minor": 5
}
