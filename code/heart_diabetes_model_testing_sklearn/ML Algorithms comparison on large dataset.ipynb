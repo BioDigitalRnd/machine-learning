{
 "cells": [
  {
   "cell_type": "code",
   "execution_count": 1,
   "id": "92f45335",
   "metadata": {
    "scrolled": true
   },
   "outputs": [],
   "source": [
    "# Comparison of classification algorithms on large data set (adult income)\n",
    "\n",
    "# import algorithms\n",
    "import pandas as pd\n",
    "from sklearn.tree import DecisionTreeClassifier\n",
    "from sklearn.experimental import enable_hist_gradient_boosting\n",
    "from sklearn.ensemble import RandomForestClassifier, ExtraTreesClassifier, HistGradientBoostingClassifier\n",
    "from sklearn.neural_network import MLPClassifier\n",
    "from sklearn.naive_bayes import GaussianNB\n",
    "from sklearn.calibration import CalibratedClassifierCV\n",
    "from sklearn.model_selection import train_test_split\n",
    "from sklearn.metrics import accuracy_score"
   ]
  },
  {
   "cell_type": "code",
   "execution_count": 23,
   "id": "588b9b03",
   "metadata": {
    "scrolled": true
   },
   "outputs": [],
   "source": [
    "# read data and assign independent and dependent variables\n",
    "adult_data = pd.read_csv('adult_na.csv')\n",
    "X = adult_data.drop(columns = ['income', 'workclass', 'education', 'marital.status', 'relationship', 'race', 'occupation', 'native.country'])\n",
    "y = adult_data['income']\n",
    "X_train, X_test, y_train, y_test = train_test_split(X, y, test_size=0.1)"
   ]
  },
  {
   "cell_type": "code",
   "execution_count": 24,
   "id": "c920ff9d",
   "metadata": {
    "scrolled": true
   },
   "outputs": [
    {
     "name": "stdout",
     "output_type": "stream",
     "text": [
      "DecisionTree = 77.801658%\n",
      "MLPCLassifier = 79.244704%\n",
      "RandomForest = 82.284311%\n",
      "HistGradBoost = 85.108996%\n",
      "ExtraTrees = 80.135094%\n",
      "Gaussian = 80.534234%\n"
     ]
    }
   ],
   "source": [
    "# apply algorithms to data\n",
    "model = DecisionTreeClassifier()\n",
    "model_n = MLPClassifier()\n",
    "model_R = RandomForestClassifier()\n",
    "model_H = HistGradientBoostingClassifier()\n",
    "model_E = ExtraTreesClassifier()\n",
    "model_G = GaussianNB()\n",
    "# model_C = CalibratedClassifierCV()\n",
    "\n",
    "model.fit(X_train, y_train)\n",
    "model_n.fit(X_train, y_train)\n",
    "model_R.fit(X_train, y_train)\n",
    "model_H.fit(X_train, y_train)\n",
    "model_E.fit(X_train, y_train)\n",
    "model_G.fit(X_train, y_train)\n",
    "# model_C.fit(X_train, y_train)\n",
    "\n",
    "# make predictions with test data\n",
    "predictions = model.predict(X_test)\n",
    "predictions_n = model_n.predict(X_test)\n",
    "predictions_R = model_R.predict(X_test)\n",
    "predictions_H = model_H.predict(X_test)\n",
    "predictions_E = model_E.predict(X_test)\n",
    "predictions_G = model_G.predict(X_test)\n",
    "# predictions_C = model_C.predict(X_test)\n",
    "\n",
    "# compare predictions with real values\n",
    "score = accuracy_score(y_test, predictions)\n",
    "score_n = accuracy_score(y_test, predictions_n)\n",
    "score_R = accuracy_score(y_test, predictions_R)\n",
    "score_H = accuracy_score(y_test, predictions_H)\n",
    "score_E = accuracy_score(y_test, predictions_E)\n",
    "score_G = accuracy_score(y_test, predictions_G)\n",
    "# score_C = accuracy_score(y_test, predictions_C)\n",
    "\n",
    "print(f\"DecisionTree = {score*100:3f}%\")\n",
    "print(f\"MLPCLassifier = {score_n*100:3f}%\")\n",
    "print(f\"RandomForest = {score_R*100:3f}%\")\n",
    "print(f\"HistGradBoost = {score_H*100:3f}%\")\n",
    "print(f\"ExtraTrees = {score_E*100:3f}%\")\n",
    "print(f\"Gaussian = {score_G*100:3f}%\")\n",
    "# print(f\"CalibratedCV = {score_C}\")"
   ]
  },
  {
   "cell_type": "code",
   "execution_count": null,
   "id": "c4262448",
   "metadata": {},
   "outputs": [],
   "source": [
    "# It appears the best(most accurate) results come when the 'workclass'\n",
    "# column is dropped and the 'education.num' column is included."
   ]
  }
 ],
 "metadata": {
  "kernelspec": {
   "display_name": "Python 3",
   "language": "python",
   "name": "python3"
  },
  "language_info": {
   "codemirror_mode": {
    "name": "ipython",
    "version": 3
   },
   "file_extension": ".py",
   "mimetype": "text/x-python",
   "name": "python",
   "nbconvert_exporter": "python",
   "pygments_lexer": "ipython3",
   "version": "3.8.8"
  }
 },
 "nbformat": 4,
 "nbformat_minor": 5
}
