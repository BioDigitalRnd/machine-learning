{
 "cells": [
  {
   "cell_type": "code",
   "execution_count": 11,
   "id": "1416bb64",
   "metadata": {},
   "outputs": [],
   "source": [
    "import pandas as pd\n",
    "from sklearn.experimental import enable_hist_gradient_boosting\n",
    "from sklearn.ensemble import HistGradientBoostingClassifier, RandomForestClassifier, ExtraTreesClassifier\n",
    "from sklearn.naive_bayes import GaussianNB\n",
    "from sklearn.neural_network import MLPClassifier\n",
    "from sklearn.model_selection import train_test_split\n",
    "from sklearn.metrics import accuracy_score"
   ]
  },
  {
   "cell_type": "code",
   "execution_count": 17,
   "id": "d4f7561b",
   "metadata": {},
   "outputs": [],
   "source": [
    "adult_data = pd.read_csv('adult_test_2.csv')\n",
    "X = adult_data.drop(columns = ['income', 'education', 'occupation', 'native.country'])\n",
    "y = adult_data['income']\n",
    "X_train, X_test, y_train, y_test = train_test_split(X, y, test_size=0.1)"
   ]
  },
  {
   "cell_type": "code",
   "execution_count": 19,
   "id": "94c72a08",
   "metadata": {},
   "outputs": [
    {
     "name": "stdout",
     "output_type": "stream",
     "text": [
      "HistGrad = 87.073994%\n",
      "RanFor = 85.385324%\n",
      "ExTrees = 83.389622%\n",
      "Gaussian = 79.797360%\n",
      "MLP = 80.012281%\n"
     ]
    }
   ],
   "source": [
    "model = HistGradientBoostingClassifier()\n",
    "model.fit(X_train, y_train)\n",
    "predictions = model.predict(X_test)\n",
    "score = accuracy_score(y_test, predictions)\n",
    "\n",
    "modelR = RandomForestClassifier()\n",
    "modelR.fit(X_train, y_train)\n",
    "predictionsR = modelR.predict(X_test)\n",
    "scoreR = accuracy_score(y_test, predictionsR)\n",
    "\n",
    "modelE = ExtraTreesClassifier()\n",
    "modelE.fit(X_train, y_train)\n",
    "predictionsE = modelE.predict(X_test)\n",
    "scoreE = accuracy_score(y_test, predictionsE)\n",
    "\n",
    "modelG = GaussianNB()\n",
    "modelG.fit(X_train, y_train)\n",
    "predictionsG = modelG.predict(X_test)\n",
    "scoreG = accuracy_score(y_test, predictionsG)\n",
    "\n",
    "# neural = MLPClassifier()\n",
    "# neural.fit(X_train, y_train)\n",
    "# predictions_ = neural.predict(X_test)\n",
    "# score_ = accuracy_score(y_test, predictions_)\n",
    "\n",
    "\n",
    "print(f\"HistGrad = {score*100:3f}%\")\n",
    "print(f\"RanFor = {scoreR*100:3f}%\")\n",
    "print(f\"ExTrees = {scoreE*100:3f}%\")\n",
    "print(f\"Gaussian = {scoreG*100:3f}%\")\n",
    "# print(f\"MLP = {score_*100:3f}%\")"
   ]
  }
 ],
 "metadata": {
  "kernelspec": {
   "display_name": "Python 3",
   "language": "python",
   "name": "python3"
  },
  "language_info": {
   "codemirror_mode": {
    "name": "ipython",
    "version": 3
   },
   "file_extension": ".py",
   "mimetype": "text/x-python",
   "name": "python",
   "nbconvert_exporter": "python",
   "pygments_lexer": "ipython3",
   "version": "3.8.8"
  }
 },
 "nbformat": 4,
 "nbformat_minor": 5
}
