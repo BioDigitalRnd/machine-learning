{
 "cells": [
  {
   "cell_type": "code",
   "execution_count": 13,
   "id": "ce45287f",
   "metadata": {},
   "outputs": [],
   "source": [
    "import pandas as pd\n",
    "from sklearn.preprocessing import OneHotEncoder\n",
    "from sklearn.compose import make_column_transformer\n",
    "from sklearn.experimental import enable_hist_gradient_boosting\n",
    "from sklearn.ensemble import HistGradientBoostingClassifier, RandomForestClassifier\n",
    "from sklearn.neural_network import MLPClassifier\n",
    "from sklearn.pipeline import make_pipeline\n",
    "from sklearn.model_selection import cross_val_score, train_test_split\n",
    "from sklearn.metrics import accuracy_score"
   ]
  },
  {
   "cell_type": "code",
   "execution_count": 2,
   "id": "6c80873d",
   "metadata": {
    "scrolled": true
   },
   "outputs": [],
   "source": [
    "df = pd.read_csv('adult_test_2.csv')\n",
    "X = df.drop(columns=['education', 'native.country', 'income'])\n",
    "y = df['income']"
   ]
  },
  {
   "cell_type": "code",
   "execution_count": 3,
   "id": "826fe4b0",
   "metadata": {},
   "outputs": [
    {
     "data": {
      "text/plain": [
       "array([[0., 0., 0., ..., 0., 0., 1.],\n",
       "       [0., 0., 0., ..., 0., 0., 0.],\n",
       "       [0., 0., 0., ..., 0., 0., 1.],\n",
       "       ...,\n",
       "       [0., 0., 0., ..., 0., 0., 0.],\n",
       "       [1., 0., 0., ..., 0., 0., 0.],\n",
       "       [1., 0., 0., ..., 0., 0., 0.]])"
      ]
     },
     "execution_count": 3,
     "metadata": {},
     "output_type": "execute_result"
    }
   ],
   "source": [
    "ohe = OneHotEncoder(sparse=False)\n",
    "ohe.fit_transform(X[['occupation']])"
   ]
  },
  {
   "cell_type": "code",
   "execution_count": 14,
   "id": "ad7ac808",
   "metadata": {},
   "outputs": [],
   "source": [
    "column_trans = make_column_transformer(\n",
    "                (OneHotEncoder(), ['occupation']),\n",
    "                remainder='passthrough')\n",
    "model = HistGradientBoostingClassifier()\n",
    "modelR = RandomForestClassifier()\n",
    "neural = MLPClassifier()"
   ]
  },
  {
   "cell_type": "code",
   "execution_count": 15,
   "id": "3140bdcf",
   "metadata": {
    "scrolled": true
   },
   "outputs": [],
   "source": [
    "pipe = make_pipeline(column_trans, model)\n",
    "pipeR = make_pipeline(column_trans, modelR)\n",
    "NPipe = make_pipeline(column_trans, neural)"
   ]
  },
  {
   "cell_type": "code",
   "execution_count": 17,
   "id": "a25856a9",
   "metadata": {
    "scrolled": false
   },
   "outputs": [],
   "source": [
    "# cv_scores = cross_val_score(pipe, X, y, cv=5)\n",
    "# cv_scoresR = cross_val_score(pipeR, X, y, cv=5)\n",
    "cv_scoresN = cross_val_score(NPipe, X, y, cv=5)\n",
    "# cross_val_score(pipe, X, y, cv=5, scoring='accuracy').mean()\n",
    "# cross_val_score(pipeR, X, y, )\n",
    "# print(cv_scores)\n",
    "# print(cv_scoresR)"
   ]
  },
  {
   "cell_type": "code",
   "execution_count": 18,
   "id": "952b6a1a",
   "metadata": {
    "scrolled": true
   },
   "outputs": [
    {
     "name": "stdout",
     "output_type": "stream",
     "text": [
      "[0.77598649 0.77073096 0.83353808 0.83968059 0.83568796]\n",
      "[0.77521879 0.76228501 0.8240172  0.83015971 0.8227887 ]\n",
      "[0.72716106 0.75552826 0.75936732 0.75921376 0.75952088]\n"
     ]
    }
   ],
   "source": [
    "print(cv_scores)\n",
    "print(cv_scoresR)\n",
    "print(cv_scoresN)"
   ]
  }
 ],
 "metadata": {
  "kernelspec": {
   "display_name": "Python 3",
   "language": "python",
   "name": "python3"
  },
  "language_info": {
   "codemirror_mode": {
    "name": "ipython",
    "version": 3
   },
   "file_extension": ".py",
   "mimetype": "text/x-python",
   "name": "python",
   "nbconvert_exporter": "python",
   "pygments_lexer": "ipython3",
   "version": "3.8.8"
  }
 },
 "nbformat": 4,
 "nbformat_minor": 5
}
