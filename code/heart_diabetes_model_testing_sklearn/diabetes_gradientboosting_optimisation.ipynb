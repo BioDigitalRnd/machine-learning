{
 "cells": [
  {
   "cell_type": "code",
   "execution_count": null,
   "id": "e1f53f57",
   "metadata": {},
   "outputs": [],
   "source": [
    "# diabetes gradient boosting optimisation"
   ]
  },
  {
   "cell_type": "code",
   "execution_count": 2,
   "id": "f04eaa6e",
   "metadata": {},
   "outputs": [],
   "source": [
    "import pandas as pd\n",
    "from sklearn.ensemble import GradientBoostingClassifier\n",
    "from sklearn.model_selection import cross_val_score"
   ]
  },
  {
   "cell_type": "code",
   "execution_count": 3,
   "id": "51280307",
   "metadata": {},
   "outputs": [],
   "source": [
    "df = pd.read_csv('diabetes.csv')\n",
    "X = df.drop(columns=['Outcome'])\n",
    "y = df['Outcome']"
   ]
  },
  {
   "cell_type": "code",
   "execution_count": 3,
   "id": "89b09a2a",
   "metadata": {},
   "outputs": [
    {
     "data": {
      "text/plain": [
       "0.7617053998632947"
      ]
     },
     "execution_count": 3,
     "metadata": {},
     "output_type": "execute_result"
    }
   ],
   "source": [
    "gb = GradientBoostingClassifier(random_state=0)\n",
    "cross_val_score(gb, X, y, cv=10).mean()"
   ]
  },
  {
   "cell_type": "code",
   "execution_count": 4,
   "id": "82eeb15d",
   "metadata": {},
   "outputs": [
    {
     "data": {
      "text/plain": [
       "0.760457963089542"
      ]
     },
     "execution_count": 4,
     "metadata": {},
     "output_type": "execute_result"
    }
   ],
   "source": [
    "gb1 = GradientBoostingClassifier(max_depth=1, random_state=0)\n",
    "cross_val_score(gb1, X, y, cv=10).mean()"
   ]
  },
  {
   "cell_type": "code",
   "execution_count": 5,
   "id": "a8c950a3",
   "metadata": {},
   "outputs": [
    {
     "data": {
      "text/plain": [
       "0.7681818181818183"
      ]
     },
     "execution_count": 5,
     "metadata": {},
     "output_type": "execute_result"
    }
   ],
   "source": [
    "gb2 = GradientBoostingClassifier(max_depth=2, random_state=0)\n",
    "cross_val_score(gb2, X, y, cv=10).mean()"
   ]
  },
  {
   "cell_type": "code",
   "execution_count": 6,
   "id": "6898616b",
   "metadata": {},
   "outputs": [
    {
     "data": {
      "text/plain": [
       "0.7617053998632947"
      ]
     },
     "execution_count": 6,
     "metadata": {},
     "output_type": "execute_result"
    }
   ],
   "source": [
    "gb3 = GradientBoostingClassifier(max_depth=3, random_state=0)\n",
    "cross_val_score(gb3, X, y, cv=10).mean()"
   ]
  },
  {
   "cell_type": "code",
   "execution_count": null,
   "id": "3824b025",
   "metadata": {},
   "outputs": [],
   "source": [
    "#Default max_depth for GradientBoosting Classifier appears to be set at 3."
   ]
  },
  {
   "cell_type": "code",
   "execution_count": 7,
   "id": "a311a24d",
   "metadata": {},
   "outputs": [
    {
     "data": {
      "text/plain": [
       "0.7734278879015721"
      ]
     },
     "execution_count": 7,
     "metadata": {},
     "output_type": "execute_result"
    }
   ],
   "source": [
    "gb4 = GradientBoostingClassifier(max_depth=4, random_state=0)\n",
    "cross_val_score(gb4, X, y, cv=10).mean()"
   ]
  },
  {
   "cell_type": "code",
   "execution_count": 9,
   "id": "286b2c8f",
   "metadata": {},
   "outputs": [
    {
     "data": {
      "text/plain": [
       "0.7577751196172249"
      ]
     },
     "execution_count": 9,
     "metadata": {},
     "output_type": "execute_result"
    }
   ],
   "source": [
    "gb5 = GradientBoostingClassifier(max_depth=5, random_state=0)\n",
    "cross_val_score(gb5, X, y, cv=10).mean()"
   ]
  },
  {
   "cell_type": "code",
   "execution_count": 12,
   "id": "055f0d84",
   "metadata": {
    "scrolled": true
   },
   "outputs": [
    {
     "data": {
      "text/plain": [
       "0.7577922077922079"
      ]
     },
     "execution_count": 12,
     "metadata": {},
     "output_type": "execute_result"
    }
   ],
   "source": [
    "gb6 = GradientBoostingClassifier(max_depth=6, random_state=0)\n",
    "cross_val_score(gb6, X, y, cv=10).mean()"
   ]
  },
  {
   "cell_type": "code",
   "execution_count": 14,
   "id": "951c7894",
   "metadata": {},
   "outputs": [
    {
     "data": {
      "text/plain": [
       "0.7460184552289816"
      ]
     },
     "execution_count": 14,
     "metadata": {},
     "output_type": "execute_result"
    }
   ],
   "source": [
    "gb7 = GradientBoostingClassifier(max_depth=7, random_state=0)\n",
    "cross_val_score(gb7, X, y, cv=10).mean()"
   ]
  },
  {
   "cell_type": "code",
   "execution_count": null,
   "id": "2e44a8c8",
   "metadata": {},
   "outputs": [],
   "source": [
    "# The optimum max_depth setting for the GradientBoostingClassifier appears\n",
    "# to be at a value of 4."
   ]
  },
  {
   "cell_type": "code",
   "execution_count": null,
   "id": "2bbcbbd1",
   "metadata": {},
   "outputs": [],
   "source": [
    "# Optimisation by altering learning rate setting"
   ]
  },
  {
   "cell_type": "code",
   "execution_count": 17,
   "id": "12641999",
   "metadata": {},
   "outputs": [
    {
     "data": {
      "text/plain": [
       "0.7734278879015721"
      ]
     },
     "execution_count": 17,
     "metadata": {},
     "output_type": "execute_result"
    }
   ],
   "source": [
    "gb_1 = GradientBoostingClassifier(learning_rate=0.1, max_depth=4, random_state=0)\n",
    "cross_val_score(gb_1, X, y, cv=10).mean()"
   ]
  },
  {
   "cell_type": "code",
   "execution_count": 19,
   "id": "0412ffa7",
   "metadata": {
    "scrolled": true
   },
   "outputs": [
    {
     "data": {
      "text/plain": [
       "0.7642857142857143"
      ]
     },
     "execution_count": 19,
     "metadata": {},
     "output_type": "execute_result"
    }
   ],
   "source": [
    "gb_2 = GradientBoostingClassifier(learning_rate=0.05, max_depth=4, random_state=0)\n",
    "cross_val_score(gb_2, X, y, cv=10).mean()"
   ]
  },
  {
   "cell_type": "code",
   "execution_count": 179,
   "id": "3a8cc9a6",
   "metadata": {
    "scrolled": true
   },
   "outputs": [
    {
     "data": {
      "text/plain": [
       "0.7695146958304853"
      ]
     },
     "execution_count": 179,
     "metadata": {},
     "output_type": "execute_result"
    }
   ],
   "source": [
    "gb_3 = GradientBoostingClassifier(n_estimators=150, learning_rate=0.04, max_depth=4, random_state=0)\n",
    "cross_val_score(gb_3, X, y, cv=10).mean()"
   ]
  },
  {
   "cell_type": "code",
   "execution_count": 223,
   "id": "7905cba9",
   "metadata": {
    "scrolled": true
   },
   "outputs": [
    {
     "data": {
      "text/plain": [
       "0.7773923444976077"
      ]
     },
     "execution_count": 223,
     "metadata": {},
     "output_type": "execute_result"
    }
   ],
   "source": [
    "gb_4 = GradientBoostingClassifier(n_estimators=100, learning_rate=0.18, max_depth=2, random_state=0)\n",
    "cross_val_score(gb_4, X, y, cv=10).mean()"
   ]
  },
  {
   "cell_type": "code",
   "execution_count": 102,
   "id": "57b98ab6",
   "metadata": {},
   "outputs": [
    {
     "data": {
      "text/plain": [
       "0.7669002050580997"
      ]
     },
     "execution_count": 102,
     "metadata": {},
     "output_type": "execute_result"
    }
   ],
   "source": [
    "gb_5 = GradientBoostingClassifier(learning_rate=0.078, max_depth=3, random_state=0)\n",
    "cross_val_score(gb_5, X, y, cv=10).mean()"
   ]
  },
  {
   "cell_type": "code",
   "execution_count": 63,
   "id": "869b8570",
   "metadata": {
    "scrolled": false
   },
   "outputs": [
    {
     "data": {
      "text/plain": [
       "0.7747778537252221"
      ]
     },
     "execution_count": 63,
     "metadata": {},
     "output_type": "execute_result"
    }
   ],
   "source": [
    "# max_depth=2, learning_rate=0.2\n",
    "gb_6 = GradientBoostingClassifier(n_estimators = 100, learning_rate=0.21, max_depth=1, random_state=0)\n",
    "cross_val_score(gb_6, X, y, cv=10).mean()"
   ]
  }
 ],
 "metadata": {
  "kernelspec": {
   "display_name": "Python 3",
   "language": "python",
   "name": "python3"
  },
  "language_info": {
   "codemirror_mode": {
    "name": "ipython",
    "version": 3
   },
   "file_extension": ".py",
   "mimetype": "text/x-python",
   "name": "python",
   "nbconvert_exporter": "python",
   "pygments_lexer": "ipython3",
   "version": "3.8.8"
  }
 },
 "nbformat": 4,
 "nbformat_minor": 5
}
