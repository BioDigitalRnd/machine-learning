{
 "cells": [
  {
   "cell_type": "code",
   "execution_count": 1,
   "id": "c6e75e4c",
   "metadata": {},
   "outputs": [],
   "source": [
    "import pandas as pd\n",
    "from sklearn.experimental import enable_hist_gradient_boosting\n",
    "from sklearn.ensemble import HistGradientBoostingClassifier, RandomForestClassifier, GradientBoostingClassifier\n",
    "from sklearn.model_selection import train_test_split, cross_val_score\n",
    "from sklearn.metrics import accuracy_score"
   ]
  },
  {
   "cell_type": "code",
   "execution_count": 2,
   "id": "1e8b468d",
   "metadata": {},
   "outputs": [],
   "source": [
    "forest_data = pd.read_csv('covertype.csv')\n",
    "X = forest_data.drop(columns = ['Cover_Type'])\n",
    "y = forest_data['Cover_Type']\n",
    "X_train, X_test, y_train, y_test = train_test_split(X, y, test_size=0.2)"
   ]
  },
  {
   "cell_type": "code",
   "execution_count": 15,
   "id": "4e236962",
   "metadata": {
    "scrolled": true
   },
   "outputs": [
    {
     "data": {
      "text/plain": [
       "MLPClassifier(max_iter=300, random_state=1)"
      ]
     },
     "execution_count": 15,
     "metadata": {},
     "output_type": "execute_result"
    }
   ],
   "source": [
    "# model = HistGradientBoostingClassifier()\n",
    "# model.fit(X_train, y_train)\n",
    "# RanFor = RandomForestClassifier()\n",
    "# RanFor.fit(X_train, y_train)\n",
    "neural = MLPClassifier(random_state=1, max_iter=300)\n",
    "neural.fit(X_train, y_train)"
   ]
  },
  {
   "cell_type": "code",
   "execution_count": 17,
   "id": "fece62fb",
   "metadata": {},
   "outputs": [],
   "source": [
    "# predictions = model.predict(X_test)\n",
    "# predictionsR = RanFor.predict(X_test)\n",
    "Npredictions = neural.predict(X_test)"
   ]
  },
  {
   "cell_type": "code",
   "execution_count": 32,
   "id": "0871941d",
   "metadata": {},
   "outputs": [
    {
     "data": {
      "text/plain": [
       "0.6148271950226042"
      ]
     },
     "execution_count": 32,
     "metadata": {},
     "output_type": "execute_result"
    }
   ],
   "source": [
    "# accuracy_score(y_test, predictions) #HistGradientBoosting\n",
    "cross_val_score(model, X, y, cv=10).mean()"
   ]
  },
  {
   "cell_type": "code",
   "execution_count": 33,
   "id": "e3df4ce4",
   "metadata": {},
   "outputs": [
    {
     "data": {
      "text/plain": [
       "0.6324894552163837"
      ]
     },
     "execution_count": 33,
     "metadata": {},
     "output_type": "execute_result"
    }
   ],
   "source": [
    "# accuracy_score(y_test, predictionsR) #RandomForest\n",
    "cross_val_score(RanFor, X, y, cv=10).mean()"
   ]
  },
  {
   "cell_type": "code",
   "execution_count": null,
   "id": "1940880b",
   "metadata": {},
   "outputs": [],
   "source": [
    "# accuracy_score(y_test, Npredictions) #MLP (neural)\n",
    "cross_val_score(neural, X, y, cv=5).mean()"
   ]
  },
  {
   "cell_type": "code",
   "execution_count": 21,
   "id": "446db08d",
   "metadata": {},
   "outputs": [
    {
     "data": {
      "text/plain": [
       "0.5581021267352977"
      ]
     },
     "execution_count": 21,
     "metadata": {},
     "output_type": "execute_result"
    }
   ],
   "source": [
    "from sklearn.tree import DecisionTreeClassifier\n",
    "\n",
    "DTree = DecisionTreeClassifier()\n",
    "\n",
    "cross_val_score(DTree, X, y, cv=5).mean()"
   ]
  },
  {
   "cell_type": "code",
   "execution_count": 22,
   "id": "cecef848",
   "metadata": {},
   "outputs": [
    {
     "data": {
      "text/plain": [
       "0.43256403986964215"
      ]
     },
     "execution_count": 22,
     "metadata": {},
     "output_type": "execute_result"
    }
   ],
   "source": [
    "from sklearn.naive_bayes import GaussianNB\n",
    "\n",
    "Gaus = GaussianNB()\n",
    "\n",
    "cross_val_score(Gaus, X, y, cv=5).mean()"
   ]
  },
  {
   "cell_type": "code",
   "execution_count": null,
   "id": "bbae3a78",
   "metadata": {},
   "outputs": [],
   "source": [
    "gradboost = GradientBoostingClassifier(max_depth=1, random_state=0)\n",
    "\n",
    "cross_val_score(gradboost, X, y, cv=10)"
   ]
  },
  {
   "cell_type": "code",
   "execution_count": 27,
   "id": "92905e4e",
   "metadata": {},
   "outputs": [
    {
     "data": {
      "text/plain": [
       "0.6017156590802686"
      ]
     },
     "execution_count": 27,
     "metadata": {},
     "output_type": "execute_result"
    }
   ],
   "source": [
    "from sklearn.ensemble import ExtraTreesClassifier\n",
    "\n",
    "ExTrees = ExtraTreesClassifier()\n",
    "\n",
    "cross_val_score(ExTrees, X, y, cv=5).mean()"
   ]
  },
  {
   "cell_type": "code",
   "execution_count": null,
   "id": "43ac95ef",
   "metadata": {
    "scrolled": true
   },
   "outputs": [
    {
     "name": "stderr",
     "output_type": "stream",
     "text": [
      "C:\\Users\\BioGuest\\anaconda3\\lib\\site-packages\\sklearn\\linear_model\\_logistic.py:763: ConvergenceWarning: lbfgs failed to converge (status=1):\n",
      "STOP: TOTAL NO. of ITERATIONS REACHED LIMIT.\n",
      "\n",
      "Increase the number of iterations (max_iter) or scale the data as shown in:\n",
      "    https://scikit-learn.org/stable/modules/preprocessing.html\n",
      "Please also refer to the documentation for alternative solver options:\n",
      "    https://scikit-learn.org/stable/modules/linear_model.html#logistic-regression\n",
      "  n_iter_i = _check_optimize_result(\n",
      "C:\\Users\\BioGuest\\anaconda3\\lib\\site-packages\\sklearn\\linear_model\\_logistic.py:763: ConvergenceWarning: lbfgs failed to converge (status=1):\n",
      "STOP: TOTAL NO. of ITERATIONS REACHED LIMIT.\n",
      "\n",
      "Increase the number of iterations (max_iter) or scale the data as shown in:\n",
      "    https://scikit-learn.org/stable/modules/preprocessing.html\n",
      "Please also refer to the documentation for alternative solver options:\n",
      "    https://scikit-learn.org/stable/modules/linear_model.html#logistic-regression\n",
      "  n_iter_i = _check_optimize_result(\n",
      "C:\\Users\\BioGuest\\anaconda3\\lib\\site-packages\\sklearn\\linear_model\\_logistic.py:763: ConvergenceWarning: lbfgs failed to converge (status=1):\n",
      "STOP: TOTAL NO. of ITERATIONS REACHED LIMIT.\n",
      "\n",
      "Increase the number of iterations (max_iter) or scale the data as shown in:\n",
      "    https://scikit-learn.org/stable/modules/preprocessing.html\n",
      "Please also refer to the documentation for alternative solver options:\n",
      "    https://scikit-learn.org/stable/modules/linear_model.html#logistic-regression\n",
      "  n_iter_i = _check_optimize_result(\n"
     ]
    }
   ],
   "source": [
    "from sklearn.linear_model import LogisticRegression\n",
    "\n",
    "logreg = LogisticRegression(solver='lbfgs', max_iter=1500)\n",
    "\n",
    "cross_val_score(logreg, X, y, cv=10).mean()"
   ]
  },
  {
   "cell_type": "code",
   "execution_count": 30,
   "id": "70e6b7d4",
   "metadata": {
    "scrolled": true
   },
   "outputs": [
    {
     "data": {
      "text/plain": [
       "0.9531165288331627"
      ]
     },
     "execution_count": 30,
     "metadata": {},
     "output_type": "execute_result"
    }
   ],
   "source": [
    "ExTrees.fit(X_train, y_train)\n",
    "predictionsE = ExTrees.predict(X_test)\n",
    "accuracy_score(y_test, predictionsE)"
   ]
  },
  {
   "cell_type": "code",
   "execution_count": 31,
   "id": "18695367",
   "metadata": {},
   "outputs": [
    {
     "name": "stderr",
     "output_type": "stream",
     "text": [
      "C:\\Users\\BioGuest\\anaconda3\\lib\\site-packages\\sklearn\\linear_model\\_logistic.py:763: ConvergenceWarning: lbfgs failed to converge (status=1):\n",
      "STOP: TOTAL NO. of ITERATIONS REACHED LIMIT.\n",
      "\n",
      "Increase the number of iterations (max_iter) or scale the data as shown in:\n",
      "    https://scikit-learn.org/stable/modules/preprocessing.html\n",
      "Please also refer to the documentation for alternative solver options:\n",
      "    https://scikit-learn.org/stable/modules/linear_model.html#logistic-regression\n",
      "  n_iter_i = _check_optimize_result(\n"
     ]
    },
    {
     "data": {
      "text/plain": [
       "0.6587609614209616"
      ]
     },
     "execution_count": 31,
     "metadata": {},
     "output_type": "execute_result"
    }
   ],
   "source": [
    "LogReg.fit(X_train, y_train)\n",
    "predictionsL = LogReg.predict(X_test)\n",
    "accuracy_score(y_test, predictionsL)"
   ]
  }
 ],
 "metadata": {
  "kernelspec": {
   "display_name": "Python 3",
   "language": "python",
   "name": "python3"
  },
  "language_info": {
   "codemirror_mode": {
    "name": "ipython",
    "version": 3
   },
   "file_extension": ".py",
   "mimetype": "text/x-python",
   "name": "python",
   "nbconvert_exporter": "python",
   "pygments_lexer": "ipython3",
   "version": "3.8.8"
  }
 },
 "nbformat": 4,
 "nbformat_minor": 5
}
