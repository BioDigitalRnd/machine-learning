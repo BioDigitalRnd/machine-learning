{
 "cells": [
  {
   "cell_type": "code",
   "execution_count": 13,
   "id": "ecd0abfb",
   "metadata": {
    "scrolled": true
   },
   "outputs": [],
   "source": [
    "import pandas as pd\n",
    "from sklearn.experimental import enable_hist_gradient_boosting\n",
    "from sklearn.ensemble import HistGradientBoostingClassifier, GradientBoostingClassifier, RandomForestClassifier, ExtraTreesClassifier\n",
    "from sklearn.model_selection import cross_val_score, train_test_split\n",
    "from sklearn.metrics import accuracy_score"
   ]
  },
  {
   "cell_type": "code",
   "execution_count": 2,
   "id": "e93614ff",
   "metadata": {},
   "outputs": [],
   "source": [
    "df = pd.read_csv('diabetes.csv')\n",
    "X = df.drop(columns=['Outcome'])\n",
    "y = df['Outcome']"
   ]
  },
  {
   "cell_type": "code",
   "execution_count": 19,
   "id": "326e1c74",
   "metadata": {},
   "outputs": [
    {
     "data": {
      "text/plain": [
       "array([0.7012987 , 0.74025974, 0.74025974, 0.64935065, 0.71428571,\n",
       "       0.76623377, 0.76623377, 0.75324675, 0.72368421, 0.78947368])"
      ]
     },
     "execution_count": 19,
     "metadata": {},
     "output_type": "execute_result"
    }
   ],
   "source": [
    "# model = HistGradientBoostingClassifier()\n",
    "cross_val_score(model, X, y, cv=10)"
   ]
  },
  {
   "cell_type": "code",
   "execution_count": 20,
   "id": "103e2008",
   "metadata": {},
   "outputs": [
    {
     "data": {
      "text/plain": [
       "array([0.68831169, 0.83116883, 0.74025974, 0.67532468, 0.76623377,\n",
       "       0.81818182, 0.83116883, 0.83116883, 0.73684211, 0.80263158])"
      ]
     },
     "execution_count": 20,
     "metadata": {},
     "output_type": "execute_result"
    }
   ],
   "source": [
    "# RanFor = RandomForestClassifier()\n",
    "cross_val_score(RanFor, X, y, cv=10)"
   ]
  },
  {
   "cell_type": "code",
   "execution_count": 21,
   "id": "fd2c2ca0",
   "metadata": {},
   "outputs": [
    {
     "data": {
      "text/plain": [
       "array([0.74025974, 0.80519481, 0.79220779, 0.63636364, 0.75324675,\n",
       "       0.77922078, 0.77922078, 0.80519481, 0.69736842, 0.81578947])"
      ]
     },
     "execution_count": 21,
     "metadata": {},
     "output_type": "execute_result"
    }
   ],
   "source": [
    "# GradBoost = GradientBoostingClassifier()\n",
    "cross_val_score(GradBoost, X, y, cv=10)"
   ]
  },
  {
   "cell_type": "code",
   "execution_count": 22,
   "id": "faf39f6d",
   "metadata": {},
   "outputs": [
    {
     "data": {
      "text/plain": [
       "array([0.71428571, 0.85714286, 0.7012987 , 0.68831169, 0.72727273,\n",
       "       0.75324675, 0.79220779, 0.83116883, 0.71052632, 0.78947368])"
      ]
     },
     "execution_count": 22,
     "metadata": {},
     "output_type": "execute_result"
    }
   ],
   "source": [
    "# ExTrees = ExtraTreesClassifier()\n",
    "cross_val_score(ExTrees, X, y, cv=10)"
   ]
  },
  {
   "cell_type": "code",
   "execution_count": 8,
   "id": "2ef1e7c6",
   "metadata": {},
   "outputs": [],
   "source": [
    "X_train, X_test, y_train, y_test = train_test_split(X, y, test_size=0.2)"
   ]
  },
  {
   "cell_type": "code",
   "execution_count": 9,
   "id": "56825ab9",
   "metadata": {},
   "outputs": [
    {
     "data": {
      "text/plain": [
       "0.8116883116883117"
      ]
     },
     "execution_count": 9,
     "metadata": {},
     "output_type": "execute_result"
    }
   ],
   "source": [
    "GradBoost.fit(X_train, y_train)\n",
    "Gpred = GradBoost.predict(X_test)\n",
    "accuracy_score(y_test, Gpred)"
   ]
  },
  {
   "cell_type": "code",
   "execution_count": 10,
   "id": "e641b411",
   "metadata": {},
   "outputs": [
    {
     "data": {
      "text/plain": [
       "0.8311688311688312"
      ]
     },
     "execution_count": 10,
     "metadata": {},
     "output_type": "execute_result"
    }
   ],
   "source": [
    "RanFor.fit(X_train, y_train)\n",
    "Rpred = RanFor.predict(X_test)\n",
    "accuracy_score(y_test, Rpred)"
   ]
  },
  {
   "cell_type": "code",
   "execution_count": 18,
   "id": "1230d9aa",
   "metadata": {},
   "outputs": [
    {
     "data": {
      "text/plain": [
       "0.7857142857142857"
      ]
     },
     "execution_count": 18,
     "metadata": {},
     "output_type": "execute_result"
    }
   ],
   "source": [
    "# HistGradientBoosting\n",
    "model.fit(X_train, y_train)\n",
    "pred = model.predict(X_test)\n",
    "accuracy_score(y_test, pred)"
   ]
  },
  {
   "cell_type": "code",
   "execution_count": 15,
   "id": "235366c3",
   "metadata": {},
   "outputs": [
    {
     "data": {
      "text/plain": [
       "0.8051948051948052"
      ]
     },
     "execution_count": 15,
     "metadata": {},
     "output_type": "execute_result"
    }
   ],
   "source": [
    "ExTrees.fit(X_train, y_train)\n",
    "Epred = ExTrees.predict(X_test)\n",
    "accuracy_score(y_test, Epred)"
   ]
  }
 ],
 "metadata": {
  "kernelspec": {
   "display_name": "Python 3",
   "language": "python",
   "name": "python3"
  },
  "language_info": {
   "codemirror_mode": {
    "name": "ipython",
    "version": 3
   },
   "file_extension": ".py",
   "mimetype": "text/x-python",
   "name": "python",
   "nbconvert_exporter": "python",
   "pygments_lexer": "ipython3",
   "version": "3.8.8"
  }
 },
 "nbformat": 4,
 "nbformat_minor": 5
}
