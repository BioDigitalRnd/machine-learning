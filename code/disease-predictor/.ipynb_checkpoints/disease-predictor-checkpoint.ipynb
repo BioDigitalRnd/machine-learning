{
 "cells": [
  {
   "cell_type": "code",
   "execution_count": 23,
   "id": "d2dba45b",
   "metadata": {},
   "outputs": [],
   "source": [
    "import pandas as pd\n",
    "import ast\n",
    "import joblib\n",
    "# Decision Tree\n",
    "from sklearn.tree import DecisionTreeClassifier\n",
    "from sklearn.metrics import accuracy_score\n",
    "# Random Forest\n",
    "from sklearn.ensemble import RandomForestClassifier\n",
    "from sklearn.datasets import make_classification\n",
    "# Logistic Regression\n",
    "from sklearn.linear_model import LogisticRegression\n",
    "from sklearn.model_selection import train_test_split\n",
    "# K Nearest Neighbours"
   ]
  },
  {
   "cell_type": "code",
   "execution_count": 24,
   "id": "46655e5f",
   "metadata": {},
   "outputs": [],
   "source": [
    "def prepare_dataframe(model):\n",
    "    if model == 'decision-tree' or 'random-forest' or 'logistic-regression':\n",
    "        filename = input('enter the name of the dataset') or 'prognosis.csv'\n",
    "        dataframe = pd.read_csv('datasets/' + filename)\n",
    "\n",
    "        print('Options: ', *dataframe.columns)\n",
    "        dependent_variable = input('enter the variable to predict:') or 'prognosis'\n",
    "\n",
    "        X = dataframe.drop(columns=[dependent_variable])\n",
    "        y = dataframe[dependent_variable]\n",
    "        X_train, X_test, y_train, y_test = train_test_split(X, y, test_size=0.17)\n",
    "\n",
    "        return X, X_train, X_test, y, y_train, y_test\n",
    "    elif model == 'k-nearest-neighbours':\n",
    "        filename = input('enter the name of the dataset') or 'heart.csv'\n",
    "        dataframe = pd.read_csv('datasets/' + filename)\n",
    "\n",
    "        print('Options: ', *dataframe.columns)\n",
    "        dependent_variable = input('enter the variable to predict:') or 'target'\n",
    "\n",
    "        X = dataframe.drop(columns=[dependent_variable])\n",
    "        y = dataframe[dependent_variable]\n",
    "        X_train, X_test, y_train, y_test = train_test_split(X, y, test_size=0.17)\n",
    "\n",
    "        return X, X_train, X_test, y, y_train, y_test"
   ]
  },
  {
   "cell_type": "code",
   "execution_count": 25,
   "id": "0ba5b5f6",
   "metadata": {},
   "outputs": [],
   "source": [
    "def model_decision_tree():\n",
    "    X, X_train, X_test, y, y_train, y_test = prepare_dataframe('decision-tree')\n",
    "    \n",
    "    model = DecisionTreeClassifier()\n",
    "    choice = int(input('do you want to train the model and see accuracy (1), or make specific predictions (2)?'))\n",
    "    if choice == 1:\n",
    "        model.fit(X_train, y_train)\n",
    "        y_pred = model.predict(X_test)\n",
    "        accuracy = str(accuracy_score(y_test, y_pred) * 100) + '%'\n",
    "        print('accuracy for this test:', accuracy)\n",
    "        \n",
    "        return accuracy\n",
    "    elif choice == 2:\n",
    "        model.fit(X, y)\n",
    "        syntax = str(list(X.columns))\n",
    "        print('Syntax: ', '[', syntax, ']')\n",
    "        data_to_predict = ast.literal_eval(input('enter the data to predict in the correct syntax:'))\n",
    "        y_pred = model.predict(data_to_predict)\n",
    "        print('predictions for:', syntax, data_to_predict, sep='\\n')\n",
    "        \n",
    "        return list(y_pred)\n",
    "    else:\n",
    "        return 'incorrect choice entered'"
   ]
  },
  {
   "cell_type": "code",
   "execution_count": 26,
   "id": "8a21b6f5",
   "metadata": {},
   "outputs": [],
   "source": [
    "def model_random_forest():\n",
    "    X, X_train, X_test, y, y_train, y_test = prepare_dataframe('random-forest')\n",
    "    \n",
    "    model = RandomForestClassifier()\n",
    "    choice = int(input('do you want to train the model and see accuracy (1), or make specific predictions (2)?'))\n",
    "    if choice == 1:\n",
    "        model.fit(X_train, y_train)\n",
    "        y_pred = model.predict(X_test)\n",
    "        accuracy = str(accuracy_score(y_test, y_pred) * 100) + '%'\n",
    "        print('accuracy for this test:', accuracy)\n",
    "        \n",
    "        return accuracy\n",
    "    elif choice == 2:\n",
    "        model.fit(X, y)\n",
    "        syntax = str(list(X.columns))\n",
    "        print('Syntax: ', '[', syntax, ']')\n",
    "        data_to_predict = ast.literal_eval(input('enter the data to predict in the correct syntax:'))\n",
    "        y_pred = model.predict(data_to_predict)\n",
    "        print('predictions for:', syntax, data_to_predict, sep='\\n')\n",
    "        \n",
    "        return list(y_pred)\n",
    "    else:\n",
    "        return 'incorrect choice entered'"
   ]
  },
  {
   "cell_type": "code",
   "execution_count": 27,
   "id": "6ddaab7c",
   "metadata": {},
   "outputs": [],
   "source": [
    "def model_logistic_regression():\n",
    "    X, X_train, X_test, y, y_train, y_test = prepare_dataframe('logistic-regression')\n",
    "    \n",
    "    model = LogisticRegression()\n",
    "    choice = int(input('do you want to train the model and see accuracy (1), or make specific predictions (2)?'))\n",
    "    if choice == 1:\n",
    "        model.fit(X_train, y_train)\n",
    "        y_pred = model.predict(X_test)\n",
    "        accuracy = str(accuracy_score(y_test, y_pred) * 100) + '%'\n",
    "        print('accuracy for this test:', accuracy)\n",
    "        \n",
    "        return accuracy\n",
    "    elif choice == 2:\n",
    "        model.fit(X, y)\n",
    "        syntax = str(list(X.columns))\n",
    "        print('Syntax: ', '[', syntax, ']')\n",
    "        data_to_predict = ast.literal_eval(input('enter the data to predict in the correct syntax:'))\n",
    "        y_pred = model.predict(data_to_predict)\n",
    "        print('predictions for:', syntax, data_to_predict, sep='\\n')\n",
    "        \n",
    "        return list(y_pred)\n",
    "    else:\n",
    "        return 'incorrect choice entered'"
   ]
  },
  {
   "cell_type": "code",
   "execution_count": 28,
   "id": "1d31f7ca",
   "metadata": {},
   "outputs": [],
   "source": [
    "def model_k_nearest_neighbours():\n",
    "    X, X_train, X_test, y, y_train, y_test = prepare_dataframe('k-nearest-neighbours')\n",
    "    \n",
    "    model = RandomForestClassifier()\n",
    "    choice = int(input('do you want to train the model and see accuracy (1), or make specific predictions (2)?'))\n",
    "    if choice == 1:\n",
    "        model.fit(X_train, y_train)\n",
    "        y_pred = model.predict(X_test)\n",
    "        accuracy = str(accuracy_score(y_test, y_pred) * 100) + '%'\n",
    "        print('accuracy for this test:', accuracy)\n",
    "        \n",
    "        return accuracy\n",
    "    elif choice == 2:\n",
    "        model.fit(X, y)\n",
    "        syntax = str(list(X.columns))\n",
    "        print('Syntax: ', '[', syntax, ']')\n",
    "        data_to_predict = ast.literal_eval(input('enter the data to predict in the correct syntax:'))\n",
    "        y_pred = model.predict(data_to_predict)\n",
    "        print('predictions for:', syntax, data_to_predict, sep='\\n')\n",
    "        \n",
    "        return list(y_pred)\n",
    "    else:\n",
    "        return 'incorrect choice entered'"
   ]
  },
  {
   "cell_type": "code",
   "execution_count": 32,
   "id": "7789f615",
   "metadata": {
    "scrolled": false
   },
   "outputs": [],
   "source": [
    "def choose_model(model):\n",
    "    return eval(f'model_{model}')()"
   ]
  },
  {
   "cell_type": "code",
   "execution_count": 34,
   "id": "ae1c64ce",
   "metadata": {
    "scrolled": true
   },
   "outputs": [
    {
     "name": "stdout",
     "output_type": "stream",
     "text": [
      "enter the name of the dataset\n",
      "Options:  itching skin_rash nodal_skin_eruptions continuous_sneezing shivering chills joint_pain stomach_pain acidity ulcers_on_tongue muscle_wasting vomiting burning_micturition spotting_ urination fatigue weight_gain anxiety cold_hands_and_feets mood_swings weight_loss restlessness lethargy patches_in_throat irregular_sugar_level cough high_fever sunken_eyes breathlessness sweating dehydration indigestion headache yellowish_skin dark_urine nausea loss_of_appetite pain_behind_the_eyes back_pain constipation abdominal_pain diarrhoea mild_fever yellow_urine yellowing_of_eyes acute_liver_failure fluid_overload swelling_of_stomach swelled_lymph_nodes malaise blurred_and_distorted_vision phlegm throat_irritation redness_of_eyes sinus_pressure runny_nose congestion chest_pain weakness_in_limbs fast_heart_rate pain_during_bowel_movements pain_in_anal_region bloody_stool irritation_in_anus neck_pain dizziness cramps bruising obesity swollen_legs swollen_blood_vessels puffy_face_and_eyes enlarged_thyroid brittle_nails swollen_extremeties excessive_hunger extra_marital_contacts drying_and_tingling_lips slurred_speech knee_pain hip_joint_pain muscle_weakness stiff_neck swelling_joints movement_stiffness spinning_movements loss_of_balance unsteadiness weakness_of_one_body_side loss_of_smell bladder_discomfort foul_smell_of urine continuous_feel_of_urine passage_of_gases internal_itching toxic_look_(typhos) depression irritability muscle_pain altered_sensorium red_spots_over_body belly_pain abnormal_menstruation dischromic _patches watering_from_eyes increased_appetite polyuria family_history mucoid_sputum rusty_sputum lack_of_concentration visual_disturbances receiving_blood_transfusion receiving_unsterile_injections coma stomach_bleeding distention_of_abdomen history_of_alcohol_consumption fluid_overload.1 blood_in_sputum prominent_veins_on_calf palpitations painful_walking pus_filled_pimples blackheads scurring skin_peeling silver_like_dusting small_dents_in_nails inflammatory_nails blister red_sore_around_nose yellow_crust_ooze prognosis\n",
      "enter the variable to predict:\n",
      "do you want to train the model and see accuracy (1), or make specific predictions (2)?2\n",
      "Syntax:  [ ['itching', 'skin_rash', 'nodal_skin_eruptions', 'continuous_sneezing', 'shivering', 'chills', 'joint_pain', 'stomach_pain', 'acidity', 'ulcers_on_tongue', 'muscle_wasting', 'vomiting', 'burning_micturition', 'spotting_ urination', 'fatigue', 'weight_gain', 'anxiety', 'cold_hands_and_feets', 'mood_swings', 'weight_loss', 'restlessness', 'lethargy', 'patches_in_throat', 'irregular_sugar_level', 'cough', 'high_fever', 'sunken_eyes', 'breathlessness', 'sweating', 'dehydration', 'indigestion', 'headache', 'yellowish_skin', 'dark_urine', 'nausea', 'loss_of_appetite', 'pain_behind_the_eyes', 'back_pain', 'constipation', 'abdominal_pain', 'diarrhoea', 'mild_fever', 'yellow_urine', 'yellowing_of_eyes', 'acute_liver_failure', 'fluid_overload', 'swelling_of_stomach', 'swelled_lymph_nodes', 'malaise', 'blurred_and_distorted_vision', 'phlegm', 'throat_irritation', 'redness_of_eyes', 'sinus_pressure', 'runny_nose', 'congestion', 'chest_pain', 'weakness_in_limbs', 'fast_heart_rate', 'pain_during_bowel_movements', 'pain_in_anal_region', 'bloody_stool', 'irritation_in_anus', 'neck_pain', 'dizziness', 'cramps', 'bruising', 'obesity', 'swollen_legs', 'swollen_blood_vessels', 'puffy_face_and_eyes', 'enlarged_thyroid', 'brittle_nails', 'swollen_extremeties', 'excessive_hunger', 'extra_marital_contacts', 'drying_and_tingling_lips', 'slurred_speech', 'knee_pain', 'hip_joint_pain', 'muscle_weakness', 'stiff_neck', 'swelling_joints', 'movement_stiffness', 'spinning_movements', 'loss_of_balance', 'unsteadiness', 'weakness_of_one_body_side', 'loss_of_smell', 'bladder_discomfort', 'foul_smell_of urine', 'continuous_feel_of_urine', 'passage_of_gases', 'internal_itching', 'toxic_look_(typhos)', 'depression', 'irritability', 'muscle_pain', 'altered_sensorium', 'red_spots_over_body', 'belly_pain', 'abnormal_menstruation', 'dischromic _patches', 'watering_from_eyes', 'increased_appetite', 'polyuria', 'family_history', 'mucoid_sputum', 'rusty_sputum', 'lack_of_concentration', 'visual_disturbances', 'receiving_blood_transfusion', 'receiving_unsterile_injections', 'coma', 'stomach_bleeding', 'distention_of_abdomen', 'history_of_alcohol_consumption', 'fluid_overload.1', 'blood_in_sputum', 'prominent_veins_on_calf', 'palpitations', 'painful_walking', 'pus_filled_pimples', 'blackheads', 'scurring', 'skin_peeling', 'silver_like_dusting', 'small_dents_in_nails', 'inflammatory_nails', 'blister', 'red_sore_around_nose', 'yellow_crust_ooze'] ]\n",
      "enter the data to predict in the correct syntax:[[1,0,1,1,0,1,0,0,1,0,0,1,0,0,1,1,0,1,1,0,0,1,0,1,0,1,1,1,1,1,1,0,1,1,0,1,0,0,0,0,1,0,0,1,0,0,0,1,0,1,1,1,1,1,0,1,1,0,0,1,0,1,1,1,1,1,1,1,1,1,0,1,1,0,0,0,1,1,0,1,0,1,0,1,1,0,0,1,0,0,0,0,0,1,0,1,0,1,0,1,0,1,1,0,0,0,0,0,0,1,0,1,0,1,0,0,0,0,0,1,0,1,1,1,1,0,0,0,0,1,1,1]]\n",
      "predictions for:\n",
      "['itching', 'skin_rash', 'nodal_skin_eruptions', 'continuous_sneezing', 'shivering', 'chills', 'joint_pain', 'stomach_pain', 'acidity', 'ulcers_on_tongue', 'muscle_wasting', 'vomiting', 'burning_micturition', 'spotting_ urination', 'fatigue', 'weight_gain', 'anxiety', 'cold_hands_and_feets', 'mood_swings', 'weight_loss', 'restlessness', 'lethargy', 'patches_in_throat', 'irregular_sugar_level', 'cough', 'high_fever', 'sunken_eyes', 'breathlessness', 'sweating', 'dehydration', 'indigestion', 'headache', 'yellowish_skin', 'dark_urine', 'nausea', 'loss_of_appetite', 'pain_behind_the_eyes', 'back_pain', 'constipation', 'abdominal_pain', 'diarrhoea', 'mild_fever', 'yellow_urine', 'yellowing_of_eyes', 'acute_liver_failure', 'fluid_overload', 'swelling_of_stomach', 'swelled_lymph_nodes', 'malaise', 'blurred_and_distorted_vision', 'phlegm', 'throat_irritation', 'redness_of_eyes', 'sinus_pressure', 'runny_nose', 'congestion', 'chest_pain', 'weakness_in_limbs', 'fast_heart_rate', 'pain_during_bowel_movements', 'pain_in_anal_region', 'bloody_stool', 'irritation_in_anus', 'neck_pain', 'dizziness', 'cramps', 'bruising', 'obesity', 'swollen_legs', 'swollen_blood_vessels', 'puffy_face_and_eyes', 'enlarged_thyroid', 'brittle_nails', 'swollen_extremeties', 'excessive_hunger', 'extra_marital_contacts', 'drying_and_tingling_lips', 'slurred_speech', 'knee_pain', 'hip_joint_pain', 'muscle_weakness', 'stiff_neck', 'swelling_joints', 'movement_stiffness', 'spinning_movements', 'loss_of_balance', 'unsteadiness', 'weakness_of_one_body_side', 'loss_of_smell', 'bladder_discomfort', 'foul_smell_of urine', 'continuous_feel_of_urine', 'passage_of_gases', 'internal_itching', 'toxic_look_(typhos)', 'depression', 'irritability', 'muscle_pain', 'altered_sensorium', 'red_spots_over_body', 'belly_pain', 'abnormal_menstruation', 'dischromic _patches', 'watering_from_eyes', 'increased_appetite', 'polyuria', 'family_history', 'mucoid_sputum', 'rusty_sputum', 'lack_of_concentration', 'visual_disturbances', 'receiving_blood_transfusion', 'receiving_unsterile_injections', 'coma', 'stomach_bleeding', 'distention_of_abdomen', 'history_of_alcohol_consumption', 'fluid_overload.1', 'blood_in_sputum', 'prominent_veins_on_calf', 'palpitations', 'painful_walking', 'pus_filled_pimples', 'blackheads', 'scurring', 'skin_peeling', 'silver_like_dusting', 'small_dents_in_nails', 'inflammatory_nails', 'blister', 'red_sore_around_nose', 'yellow_crust_ooze']\n",
      "[[1, 0, 1, 1, 0, 1, 0, 0, 1, 0, 0, 1, 0, 0, 1, 1, 0, 1, 1, 0, 0, 1, 0, 1, 0, 1, 1, 1, 1, 1, 1, 0, 1, 1, 0, 1, 0, 0, 0, 0, 1, 0, 0, 1, 0, 0, 0, 1, 0, 1, 1, 1, 1, 1, 0, 1, 1, 0, 0, 1, 0, 1, 1, 1, 1, 1, 1, 1, 1, 1, 0, 1, 1, 0, 0, 0, 1, 1, 0, 1, 0, 1, 0, 1, 1, 0, 0, 1, 0, 0, 0, 0, 0, 1, 0, 1, 0, 1, 0, 1, 0, 1, 1, 0, 0, 0, 0, 0, 0, 1, 0, 1, 0, 1, 0, 0, 0, 0, 0, 1, 0, 1, 1, 1, 1, 0, 0, 0, 0, 1, 1, 1]]\n"
     ]
    },
    {
     "name": "stderr",
     "output_type": "stream",
     "text": [
      "/home/mosh/.local/lib/python3.8/site-packages/sklearn/base.py:441: UserWarning: X does not have valid feature names, but DecisionTreeClassifier was fitted with feature names\n",
      "  warnings.warn(\n"
     ]
    },
    {
     "data": {
      "text/plain": [
       "['Hypothyroidism']"
      ]
     },
     "execution_count": 34,
     "metadata": {},
     "output_type": "execute_result"
    }
   ],
   "source": [
    "choose_model('decision_tree')"
   ]
  },
  {
   "cell_type": "code",
   "execution_count": 21,
   "id": "9b5d4410",
   "metadata": {},
   "outputs": [
    {
     "data": {
      "text/plain": [
       "[[34, 1, 3, 127, 242, 0, 1, 171, 0, 2.9, 0, 0, 0]]"
      ]
     },
     "execution_count": 21,
     "metadata": {},
     "output_type": "execute_result"
    }
   ],
   "source": [
    "# Example Prediction HEART.CSV\n",
    "[[34, 1, 3, 127, 242, 0, 1, 171, 0, 2.9, 0, 0, 0]]"
   ]
  },
  {
   "cell_type": "code",
   "execution_count": 22,
   "id": "924c15b6",
   "metadata": {
    "scrolled": true
   },
   "outputs": [
    {
     "data": {
      "text/plain": [
       "[[1,\n",
       "  0,\n",
       "  1,\n",
       "  1,\n",
       "  0,\n",
       "  1,\n",
       "  0,\n",
       "  0,\n",
       "  1,\n",
       "  0,\n",
       "  0,\n",
       "  1,\n",
       "  0,\n",
       "  0,\n",
       "  1,\n",
       "  1,\n",
       "  0,\n",
       "  1,\n",
       "  1,\n",
       "  0,\n",
       "  0,\n",
       "  1,\n",
       "  0,\n",
       "  1,\n",
       "  0,\n",
       "  1,\n",
       "  1,\n",
       "  1,\n",
       "  1,\n",
       "  1,\n",
       "  1,\n",
       "  0,\n",
       "  1,\n",
       "  1,\n",
       "  0,\n",
       "  1,\n",
       "  0,\n",
       "  0,\n",
       "  0,\n",
       "  0,\n",
       "  1,\n",
       "  0,\n",
       "  0,\n",
       "  1,\n",
       "  0,\n",
       "  0,\n",
       "  0,\n",
       "  1,\n",
       "  0,\n",
       "  1,\n",
       "  1,\n",
       "  1,\n",
       "  1,\n",
       "  1,\n",
       "  0,\n",
       "  1,\n",
       "  1,\n",
       "  0,\n",
       "  0,\n",
       "  1,\n",
       "  0,\n",
       "  1,\n",
       "  1,\n",
       "  1,\n",
       "  1,\n",
       "  1,\n",
       "  1,\n",
       "  1,\n",
       "  1,\n",
       "  1,\n",
       "  0,\n",
       "  1,\n",
       "  1,\n",
       "  0,\n",
       "  0,\n",
       "  0,\n",
       "  1,\n",
       "  1,\n",
       "  0,\n",
       "  1,\n",
       "  0,\n",
       "  1,\n",
       "  0,\n",
       "  1,\n",
       "  1,\n",
       "  0,\n",
       "  0,\n",
       "  1,\n",
       "  0,\n",
       "  0,\n",
       "  0,\n",
       "  0,\n",
       "  0,\n",
       "  1,\n",
       "  0,\n",
       "  1,\n",
       "  0,\n",
       "  1,\n",
       "  0,\n",
       "  1,\n",
       "  0,\n",
       "  1,\n",
       "  1,\n",
       "  0,\n",
       "  0,\n",
       "  0,\n",
       "  0,\n",
       "  0,\n",
       "  0,\n",
       "  1,\n",
       "  0,\n",
       "  1,\n",
       "  0,\n",
       "  1,\n",
       "  0,\n",
       "  0,\n",
       "  0,\n",
       "  0,\n",
       "  0,\n",
       "  1,\n",
       "  0,\n",
       "  1,\n",
       "  1,\n",
       "  1,\n",
       "  1,\n",
       "  0,\n",
       "  0,\n",
       "  0,\n",
       "  0,\n",
       "  1,\n",
       "  1,\n",
       "  1]]"
      ]
     },
     "execution_count": 22,
     "metadata": {},
     "output_type": "execute_result"
    }
   ],
   "source": [
    "# Example Prediction PROGNOSIS.CSV\n",
    "[[1,0,1,1,0,1,0,0,1,0,0,1,0,0,1,1,0,1,1,0,0,1,0,1,0,1,1,1,1,1,1,0,1,1,0,1,0,0,0,0,1,0,0,1,0,0,0,1,0,1,1,1,1,1,0,1,1,0,0,1,0,1,1,1,1,1,1,1,1,1,0,1,1,0,0,0,1,1,0,1,0,1,0,1,1,0,0,1,0,0,0,0,0,1,0,1,0,1,0,1,0,1,1,0,0,0,0,0,0,1,0,1,0,1,0,0,0,0,0,1,0,1,1,1,1,0,0,0,0,1,1,1]]"
   ]
  }
 ],
 "metadata": {
  "kernelspec": {
   "display_name": "Python 3 (ipykernel)",
   "language": "python",
   "name": "python3"
  },
  "language_info": {
   "codemirror_mode": {
    "name": "ipython",
    "version": 3
   },
   "file_extension": ".py",
   "mimetype": "text/x-python",
   "name": "python",
   "nbconvert_exporter": "python",
   "pygments_lexer": "ipython3",
   "version": "3.8.10"
  }
 },
 "nbformat": 4,
 "nbformat_minor": 5
}
