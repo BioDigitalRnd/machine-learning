{
 "cells": [
  {
   "cell_type": "code",
   "execution_count": 1,
   "id": "26a4d889",
   "metadata": {},
   "outputs": [],
   "source": [
    "import pandas as pd\n",
    "from sklearn.ensemble import RandomForestClassifier\n",
    "from sklearn.model_selection import cross_val_score"
   ]
  },
  {
   "cell_type": "code",
   "execution_count": 4,
   "id": "f17177f9",
   "metadata": {
    "scrolled": true
   },
   "outputs": [],
   "source": [
    "df = pd.read_csv('diabetes.csv')\n",
    "X = df.drop(columns = 'Outcome')\n",
    "y = df['Outcome']\n"
   ]
  },
  {
   "cell_type": "code",
   "execution_count": 24,
   "id": "62e7724c",
   "metadata": {},
   "outputs": [
    {
     "data": {
      "text/plain": [
       "0.7617566643882434"
      ]
     },
     "execution_count": 24,
     "metadata": {},
     "output_type": "execute_result"
    }
   ],
   "source": [
    "# Rf1 = RandomForestClassifier(random_state=0)\n",
    "cross_val_score(Rf1, X, y, cv=10).mean()"
   ]
  },
  {
   "cell_type": "code",
   "execution_count": 23,
   "id": "24895d14",
   "metadata": {},
   "outputs": [
    {
     "data": {
      "text/plain": [
       "0.7681989063568011"
      ]
     },
     "execution_count": 23,
     "metadata": {},
     "output_type": "execute_result"
    }
   ],
   "source": [
    "# Recommended max_depth is between 5-8\n",
    "# Rf2 = RandomForestClassifier(max_depth=5, random_state=0)\n",
    "cross_val_score(Rf2, X, y, cv=10).mean()"
   ]
  },
  {
   "cell_type": "code",
   "execution_count": 22,
   "id": "82b39075",
   "metadata": {},
   "outputs": [
    {
     "data": {
      "text/plain": [
       "0.7695146958304853"
      ]
     },
     "execution_count": 22,
     "metadata": {},
     "output_type": "execute_result"
    }
   ],
   "source": [
    "# Rf3 = RandomForestClassifier(max_depth=8, random_state=0)\n",
    "cross_val_score(Rf3, X, y, cv=10).mean()"
   ]
  },
  {
   "cell_type": "code",
   "execution_count": 15,
   "id": "62c52dde",
   "metadata": {},
   "outputs": [
    {
     "data": {
      "text/plain": [
       "0.7604408749145591"
      ]
     },
     "execution_count": 15,
     "metadata": {},
     "output_type": "execute_result"
    }
   ],
   "source": [
    "# Rf4 = RandomForestClassifier(max_depth=6, random_state=0)\n",
    "cross_val_score(Rf4, X, y, cv=10).mean()"
   ]
  },
  {
   "cell_type": "code",
   "execution_count": 16,
   "id": "57697ceb",
   "metadata": {},
   "outputs": [
    {
     "data": {
      "text/plain": [
       "0.7617053998632947"
      ]
     },
     "execution_count": 16,
     "metadata": {},
     "output_type": "execute_result"
    }
   ],
   "source": [
    "Rf5 = RandomForestClassifier(max_depth=7, random_state=0)\n",
    "cross_val_score(Rf5, X, y, cv=10).mean()"
   ]
  },
  {
   "cell_type": "code",
   "execution_count": 17,
   "id": "d209daa4",
   "metadata": {},
   "outputs": [
    {
     "data": {
      "text/plain": [
       "0.7577922077922078"
      ]
     },
     "execution_count": 17,
     "metadata": {},
     "output_type": "execute_result"
    }
   ],
   "source": [
    "Rf6 = RandomForestClassifier(max_depth=4, random_state=0)\n",
    "cross_val_score(Rf6, X, y, cv=10).mean()"
   ]
  },
  {
   "cell_type": "code",
   "execution_count": 18,
   "id": "7905edf0",
   "metadata": {},
   "outputs": [
    {
     "data": {
      "text/plain": [
       "0.7565447710184552"
      ]
     },
     "execution_count": 18,
     "metadata": {},
     "output_type": "execute_result"
    }
   ],
   "source": [
    "Rf7 = RandomForestClassifier(max_depth=3, random_state=0)\n",
    "cross_val_score(Rf7, X, y, cv=10).mean()"
   ]
  },
  {
   "cell_type": "code",
   "execution_count": 19,
   "id": "a6b1820b",
   "metadata": {},
   "outputs": [
    {
     "data": {
      "text/plain": [
       "0.7369958988380041"
      ]
     },
     "execution_count": 19,
     "metadata": {},
     "output_type": "execute_result"
    }
   ],
   "source": [
    "Rf8 = RandomForestClassifier(max_depth=2, random_state=0)\n",
    "cross_val_score(Rf8, X, y, cv=10).mean()"
   ]
  },
  {
   "cell_type": "code",
   "execution_count": 25,
   "id": "c289e211",
   "metadata": {},
   "outputs": [
    {
     "data": {
      "text/plain": [
       "0.7656185919343814"
      ]
     },
     "execution_count": 25,
     "metadata": {},
     "output_type": "execute_result"
    }
   ],
   "source": [
    "Rf9 = RandomForestClassifier(max_depth=9, random_state=0)\n",
    "cross_val_score(Rf9, X, y, cv=10).mean()"
   ]
  },
  {
   "cell_type": "code",
   "execution_count": 26,
   "id": "9193da35",
   "metadata": {},
   "outputs": [
    {
     "data": {
      "text/plain": [
       "0.7668831168831168"
      ]
     },
     "execution_count": 26,
     "metadata": {},
     "output_type": "execute_result"
    }
   ],
   "source": [
    "Rf10 = RandomForestClassifier(max_depth=10, random_state=0)\n",
    "cross_val_score(Rf10, X, y, cv=10).mean()"
   ]
  },
  {
   "cell_type": "code",
   "execution_count": 32,
   "id": "b7cb7266",
   "metadata": {},
   "outputs": [
    {
     "data": {
      "text/plain": [
       "0.7617566643882434"
      ]
     },
     "execution_count": 32,
     "metadata": {},
     "output_type": "execute_result"
    }
   ],
   "source": [
    "Rf16 = RandomForestClassifier(max_depth=16, random_state=0)\n",
    "cross_val_score(Rf16, X, y, cv=10).mean()"
   ]
  },
  {
   "cell_type": "code",
   "execution_count": null,
   "id": "ff501178",
   "metadata": {},
   "outputs": [],
   "source": [
    "# RandomForest default max_depth value appears to be set at 16\n",
    "# The best value for accuracy on this data set is shown by limiting\n",
    "# the max_depth to a value of 8."
   ]
  }
 ],
 "metadata": {
  "kernelspec": {
   "display_name": "Python 3",
   "language": "python",
   "name": "python3"
  },
  "language_info": {
   "codemirror_mode": {
    "name": "ipython",
    "version": 3
   },
   "file_extension": ".py",
   "mimetype": "text/x-python",
   "name": "python",
   "nbconvert_exporter": "python",
   "pygments_lexer": "ipython3",
   "version": "3.8.8"
  }
 },
 "nbformat": 4,
 "nbformat_minor": 5
}
