{
 "cells": [
  {
   "cell_type": "code",
   "execution_count": 1,
   "id": "4b54552c",
   "metadata": {},
   "outputs": [],
   "source": [
    "import pandas as pd\n",
    "import xgboost as xgb\n",
    "from sklearn.model_selection import train_test_split, cross_val_score"
   ]
  },
  {
   "cell_type": "code",
   "execution_count": 2,
   "id": "a7f0ed12",
   "metadata": {},
   "outputs": [],
   "source": [
    "df = pd.read_csv('heart.csv')\n",
    "X = df.drop(columns=['target'])\n",
    "y = df['target']\n",
    "X_train, X_test, y_train, y_test = train_test_split(X, y, test_size=0.2, random_state=0)"
   ]
  },
  {
   "cell_type": "code",
   "execution_count": 3,
   "id": "8fe96090",
   "metadata": {},
   "outputs": [],
   "source": [
    "train = xgb.DMatrix(X_train, label=y_train)\n",
    "test = xgb.DMatrix(X_test, label=y_test)"
   ]
  },
  {
   "cell_type": "code",
   "execution_count": 4,
   "id": "2870a666",
   "metadata": {},
   "outputs": [],
   "source": [
    "param = {\n",
    "    'max_depth': 5,\n",
    "    'eta': 0.7,\n",
    "    'objective': 'multi:softmax',\n",
    "    'num_class': 4,\n",
    "    'eval_metric': 'mlogloss'\n",
    "}\n",
    "epochs = 10"
   ]
  },
  {
   "cell_type": "code",
   "execution_count": 5,
   "id": "39f668b1",
   "metadata": {
    "scrolled": true
   },
   "outputs": [],
   "source": [
    "model = xgb.train(param, train, epochs)"
   ]
  },
  {
   "cell_type": "code",
   "execution_count": 6,
   "id": "5a93a495",
   "metadata": {},
   "outputs": [],
   "source": [
    "predictions = model.predict(test)"
   ]
  },
  {
   "cell_type": "code",
   "execution_count": 7,
   "id": "b18502c0",
   "metadata": {},
   "outputs": [
    {
     "data": {
      "text/plain": [
       "0.8688524590163934"
      ]
     },
     "execution_count": 7,
     "metadata": {},
     "output_type": "execute_result"
    }
   ],
   "source": [
    "from sklearn.metrics import accuracy_score\n",
    "\n",
    "accuracy_score(y_test, predictions)\n",
    "# hacked by mosh"
   ]
  },
  {
   "cell_type": "code",
   "execution_count": 140,
   "id": "27822789",
   "metadata": {
    "scrolled": true
   },
   "outputs": [
    {
     "name": "stdout",
     "output_type": "stream",
     "text": [
      "   train-mlogloss-mean  train-mlogloss-std  test-mlogloss-mean  \\\n",
      "0             0.598483            0.004575            0.803200   \n",
      "1             0.348291            0.014916            0.624990   \n",
      "2             0.223783            0.011538            0.550890   \n",
      "3             0.152932            0.007978            0.519983   \n",
      "4             0.111783            0.006925            0.498660   \n",
      "5             0.085110            0.006280            0.495503   \n",
      "6             0.068118            0.004159            0.495472   \n",
      "7             0.057034            0.003167            0.487744   \n",
      "8             0.049175            0.002818            0.495871   \n",
      "9             0.043431            0.002363            0.504297   \n",
      "\n",
      "   test-mlogloss-std  \n",
      "0           0.080291  \n",
      "1           0.065349  \n",
      "2           0.063297  \n",
      "3           0.073973  \n",
      "4           0.068191  \n",
      "5           0.062845  \n",
      "6           0.061583  \n",
      "7           0.059361  \n",
      "8           0.062767  \n",
      "9           0.067519  \n"
     ]
    }
   ],
   "source": [
    "result = xgb.cv(params=param, dtrain=train, early_stopping_rounds=50, as_pandas=True, seed=23333)\n",
    "print(result)"
   ]
  },
  {
   "cell_type": "code",
   "execution_count": 28,
   "id": "eea215a1",
   "metadata": {
    "scrolled": true
   },
   "outputs": [],
   "source": [
    "from sklearn.datasets import load_breast_cancer, load_iris\n",
    "import numpy as np\n",
    "\n",
    "cancer = load_breast_cancer()\n",
    "X = cancer.data\n",
    "y = cancer.target\n",
    "\n",
    "# iris = load_iris()\n",
    "# X = iris.data\n",
    "# y = iris.target\n",
    "X_train, X_test, y_train, y_test = train_test_split(X, y, test_size=0.2, random_state=1)\n"
   ]
  },
  {
   "cell_type": "code",
   "execution_count": 29,
   "id": "8e4d5dd2",
   "metadata": {
    "scrolled": true
   },
   "outputs": [
    {
     "name": "stdout",
     "output_type": "stream",
     "text": [
      "              precision    recall  f1-score   support\n",
      "\n",
      "           0       1.00      0.88      0.94        42\n",
      "           1       0.94      1.00      0.97        72\n",
      "\n",
      "    accuracy                           0.96       114\n",
      "   macro avg       0.97      0.94      0.95       114\n",
      "weighted avg       0.96      0.96      0.96       114\n",
      "\n"
     ]
    }
   ],
   "source": [
    "from sklearn.ensemble import ExtraTreesClassifier\n",
    "from sklearn.metrics import accuracy_score, classification_report\n",
    "\n",
    "model = ExtraTreesClassifier(random_state=1)\n",
    "model.fit(X_train, y_train)\n",
    "\n",
    "predictions = model.predict(X_test)\n",
    "print(classification_report(y_test, predictions))"
   ]
  },
  {
   "cell_type": "code",
   "execution_count": 16,
   "id": "c9961819",
   "metadata": {
    "scrolled": true
   },
   "outputs": [
    {
     "name": "stdout",
     "output_type": "stream",
     "text": [
      "Fitting 5 folds for each of 1200 candidates, totalling 6000 fits\n",
      "{'criterion': 'entropy', 'max_features': 'sqrt', 'min_samples_leaf': 1, 'min_samples_split': 2, 'n_estimators': 50, 'random_state': 1}\n",
      "              precision    recall  f1-score   support\n",
      "\n",
      "           0       1.00      0.88      0.94        42\n",
      "           1       0.94      1.00      0.97        72\n",
      "\n",
      "    accuracy                           0.96       114\n",
      "   macro avg       0.97      0.94      0.95       114\n",
      "weighted avg       0.96      0.96      0.96       114\n",
      "\n"
     ]
    },
    {
     "name": "stderr",
     "output_type": "stream",
     "text": [
      "C:\\Users\\BioGuest\\anaconda3\\lib\\site-packages\\sklearn\\model_selection\\_search.py:918: UserWarning: One or more of the test scores are non-finite: [       nan        nan        nan ... 0.94505495 0.93846154 0.92967033]\n",
      "  warnings.warn(\n"
     ]
    }
   ],
   "source": [
    "from sklearn.model_selection import GridSearchCV\n",
    "\n",
    "# defining parameter range\n",
    "param_grid = {\n",
    "        'n_estimators': range(50,101,25),\n",
    "        'criterion': ['gini', 'entropy'],\n",
    "        #'max_depth' : range(25,101,25),\n",
    "        'min_samples_leaf': range(1,11,1),\n",
    "        'min_samples_split': range(1, 11, 1),\n",
    "        'max_features': ['sqrt','log2'],\n",
    "        'random_state':[1]\n",
    "}\n",
    "\n",
    "grid = GridSearchCV(model, param_grid, refit=True, verbose=3, n_jobs=-1)\n",
    "\n",
    "grid.fit(X_train, y_train)\n",
    "store = grid.best_params_\n",
    "print(grid.best_params_)\n",
    "grid_pred = grid.predict(X_test)\n",
    "\n",
    "print(classification_report(y_test, grid_pred))"
   ]
  },
  {
   "cell_type": "code",
   "execution_count": 84,
   "id": "59ce5572",
   "metadata": {},
   "outputs": [
    {
     "ename": "KeyError",
     "evalue": "'criterion'",
     "output_type": "error",
     "traceback": [
      "\u001b[1;31m---------------------------------------------------------------------------\u001b[0m",
      "\u001b[1;31mKeyError\u001b[0m                                  Traceback (most recent call last)",
      "\u001b[1;32m<ipython-input-84-f371b74076f7>\u001b[0m in \u001b[0;36m<module>\u001b[1;34m\u001b[0m\n\u001b[0;32m      2\u001b[0m \u001b[1;32mfrom\u001b[0m \u001b[0msklearn\u001b[0m\u001b[1;33m.\u001b[0m\u001b[0mensemble\u001b[0m \u001b[1;32mimport\u001b[0m \u001b[0mExtraTreesClassifier\u001b[0m\u001b[1;33m\u001b[0m\u001b[1;33m\u001b[0m\u001b[0m\n\u001b[0;32m      3\u001b[0m \u001b[1;33m\u001b[0m\u001b[0m\n\u001b[1;32m----> 4\u001b[1;33m optimum = ExtraTreesClassifier(criterion=store['criterion'],\n\u001b[0m\u001b[0;32m      5\u001b[0m                                 \u001b[0mmax_features\u001b[0m\u001b[1;33m=\u001b[0m\u001b[0mstore\u001b[0m\u001b[1;33m[\u001b[0m\u001b[1;34m'max_features'\u001b[0m\u001b[1;33m]\u001b[0m\u001b[1;33m,\u001b[0m\u001b[1;33m\u001b[0m\u001b[1;33m\u001b[0m\u001b[0m\n\u001b[0;32m      6\u001b[0m                                 \u001b[0mmin_samples_leaf\u001b[0m\u001b[1;33m=\u001b[0m\u001b[0mstore\u001b[0m\u001b[1;33m[\u001b[0m\u001b[1;34m'min_samples_leaf'\u001b[0m\u001b[1;33m]\u001b[0m\u001b[1;33m,\u001b[0m\u001b[1;33m\u001b[0m\u001b[1;33m\u001b[0m\u001b[0m\n",
      "\u001b[1;31mKeyError\u001b[0m: 'criterion'"
     ]
    }
   ],
   "source": [
    "from sklearn.metrics import accuracy_score\n",
    "from sklearn.ensemble import ExtraTreesClassifier\n",
    "\n",
    "optimum = ExtraTreesClassifier(criterion=store['criterion'],\n",
    "                                max_features=store['max_features'],\n",
    "                                min_samples_leaf=store['min_samples_leaf'],\n",
    "                                min_samples_split=store['min_samples_split'],\n",
    "                                n_estimators=store['n_estimators'], \n",
    "                                random_state=0\n",
    "                              )\n",
    "default = ExtraTreesClassifier(criterion='gini', max_depth=None, min_samples_split=2, min_samples_leaf=1, max_features='auto' , random_state=0)\n",
    "\n",
    "optimum.fit(X_train, y_train)\n",
    "default.fit(X_train, y_train)\n",
    "\n",
    "optimum_pred = optimum.predict(X_test)\n",
    "default_pred = default.predict(X_test)\n",
    "\n",
    "optimum_score = accuracy_score(y_test, optimum_pred)\n",
    "default_score = accuracy_score(y_test, default_pred)\n",
    "\n",
    "print(optimum_score)\n",
    "print(default_score)\n",
    "grid.score(X_test, y_test)"
   ]
  },
  {
   "cell_type": "code",
   "execution_count": 55,
   "id": "b3be9dd8",
   "metadata": {
    "scrolled": true
   },
   "outputs": [
    {
     "name": "stdout",
     "output_type": "stream",
     "text": [
      "{'criterion': 'entropy', 'max_depth': 25, 'max_features': 'log2', 'min_samples_leaf': 1, 'min_samples_split': 8, 'n_estimators': 75, 'random_state': 0}\n"
     ]
    }
   ],
   "source": [
    "store = grid.best_params_\n",
    "print(store)"
   ]
  },
  {
   "cell_type": "code",
   "execution_count": 79,
   "id": "b09cad7f",
   "metadata": {},
   "outputs": [
    {
     "name": "stdout",
     "output_type": "stream",
     "text": [
      "0.9473684210526315\n",
      "0.9670329670329672\n"
     ]
    }
   ],
   "source": [
    "print(grid.score(X_test, y_test))\n",
    "print(grid.best_score_)"
   ]
  }
 ],
 "metadata": {
  "kernelspec": {
   "display_name": "Python 3",
   "language": "python",
   "name": "python3"
  },
  "language_info": {
   "codemirror_mode": {
    "name": "ipython",
    "version": 3
   },
   "file_extension": ".py",
   "mimetype": "text/x-python",
   "name": "python",
   "nbconvert_exporter": "python",
   "pygments_lexer": "ipython3",
   "version": "3.8.8"
  }
 },
 "nbformat": 4,
 "nbformat_minor": 5
}
